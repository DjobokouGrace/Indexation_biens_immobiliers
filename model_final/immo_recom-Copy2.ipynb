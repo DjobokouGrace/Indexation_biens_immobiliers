{
 "cells": [
  {
   "cell_type": "code",
   "execution_count": 112,
   "id": "a71f24b0",
   "metadata": {},
   "outputs": [],
   "source": [
    "import re\n",
    "import pandas as pd\n",
    "import numpy as np\n",
    "import seaborn as sns\n",
    "import matplotlib.pyplot as plt\n",
    "from sklearn import metrics\n",
    "from sklearn.model_selection import train_test_split\n",
    "\n",
    "from sklearn.cluster import KMeans\n",
    "from sklearn.neighbors import NearestNeighbors\n",
    "from sklearn.feature_extraction.text import CountVectorizer\n",
    "from sklearn.feature_extraction.text import TfidfVectorizer\n",
    "from sklearn.metrics.pairwise import polynomial_kernel\n",
    "from sklearn.pipeline import FeatureUnion\n",
    "from sklearn.compose import ColumnTransformer\n",
    "from sklearn.neighbors import NearestNeighbors\n",
    "from sklearn.pipeline import Pipeline\n",
    "from sklearn.impute import SimpleImputer\n",
    "from sklearn.preprocessing import StandardScaler, OneHotEncoder,LabelEncoder"
   ]
  },
  {
   "cell_type": "code",
   "execution_count": 113,
   "id": "ace0ebe6",
   "metadata": {
    "scrolled": true
   },
   "outputs": [
    {
     "data": {
      "text/plain": [
       "Index(['id', 'object', 'result_position', 'annonce_id', 'agency_id',\n",
       "       'agency_page', 'agency_contact_name', 'agency_img_url',\n",
       "       'agency_phone_number', 'agency_has_email', 'agency_link', 'address',\n",
       "       'area', 'bedrooms_count', 'business_unit', 'coownership_annual_charges',\n",
       "       'coownership_number_of_lots', 'coownership_is_syndic_procedure',\n",
       "       'contact_is_private_seller', 'contact_email', 'description', 'district',\n",
       "       'dpe', 'estate_type', 'electricity_consumption', 'estate_type_id',\n",
       "       'features', 'ges', 'gas_emissions', 'highlighting_level', 'insee_code',\n",
       "       'is_exclusive', 'is_redirected', 'is_expired', 'latitude', 'longitude',\n",
       "       'monthly_price', 'main_picture', 'nature', 'postal_code', 'position',\n",
       "       'picture_count', 'price', 'price_per_meter', 'photos',\n",
       "       'price_decrease_percent', 'publication_id', 'pricing_price_note', 'ref',\n",
       "       'rooms', 'short_description', 'transaction_type', 'title', 'tags',\n",
       "       'url', 'video_url', 'virtual_visit_url', 'collected_at', 'input_url',\n",
       "       'input_max_pages', 'input_annonce_details', 'is_furnished'],\n",
       "      dtype='object')"
      ]
     },
     "execution_count": 113,
     "metadata": {},
     "output_type": "execute_result"
    }
   ],
   "source": [
    "data = pd.read_csv(\"resultat.csv\")\n",
    "data.columns"
   ]
  },
  {
   "cell_type": "code",
   "execution_count": 114,
   "id": "c54cfcd9",
   "metadata": {},
   "outputs": [
    {
     "name": "stdout",
     "output_type": "stream",
     "text": [
      "id\n"
     ]
    },
    {
     "data": {
      "text/plain": [
       "id\n",
       "678761     5\n",
       "4793574    5\n",
       "4793801    5\n",
       "4793869    5\n",
       "4794140    5\n",
       "          ..\n",
       "4785542    1\n",
       "4809231    1\n",
       "4717177    1\n",
       "4643339    1\n",
       "4785831    1\n",
       "Name: count, Length: 1157, dtype: int64"
      ]
     },
     "metadata": {},
     "output_type": "display_data"
    },
    {
     "name": "stdout",
     "output_type": "stream",
     "text": [
      "object\n"
     ]
    },
    {
     "data": {
      "text/plain": [
       "object\n",
       "result    4769\n",
       "Name: count, dtype: int64"
      ]
     },
     "metadata": {},
     "output_type": "display_data"
    },
    {
     "name": "stdout",
     "output_type": "stream",
     "text": [
      "result_position\n"
     ]
    },
    {
     "data": {
      "text/plain": [
       "result_position\n",
       "331     6\n",
       "322     6\n",
       "221     6\n",
       "178     6\n",
       "297     6\n",
       "       ..\n",
       "1038    1\n",
       "1048    1\n",
       "1049    1\n",
       "1039    1\n",
       "1044    1\n",
       "Name: count, Length: 1049, dtype: int64"
      ]
     },
     "metadata": {},
     "output_type": "display_data"
    },
    {
     "name": "stdout",
     "output_type": "stream",
     "text": [
      "annonce_id\n"
     ]
    },
    {
     "data": {
      "text/plain": [
       "annonce_id\n",
       "182171885    5\n",
       "211629517    5\n",
       "211733747    5\n",
       "211051621    5\n",
       "211195439    5\n",
       "            ..\n",
       "211675687    1\n",
       "211814963    1\n",
       "211379383    1\n",
       "211460329    1\n",
       "210513023    1\n",
       "Name: count, Length: 1157, dtype: int64"
      ]
     },
     "metadata": {},
     "output_type": "display_data"
    },
    {
     "name": "stdout",
     "output_type": "stream",
     "text": [
      "agency_id\n"
     ]
    },
    {
     "data": {
      "text/plain": [
       "agency_id\n",
       "8798      253\n",
       "506743    126\n",
       "52836     113\n",
       "117455     94\n",
       "116383     90\n",
       "         ... \n",
       "87770       1\n",
       "78034       1\n",
       "165672      1\n",
       "107223      1\n",
       "511383      1\n",
       "Name: count, Length: 439, dtype: int64"
      ]
     },
     "metadata": {},
     "output_type": "display_data"
    },
    {
     "name": "stdout",
     "output_type": "stream",
     "text": [
      "agency_page\n"
     ]
    },
    {
     "data": {
      "text/plain": [
       "agency_page\n",
       "https://www.seloger.com/professionnels/agences-immobilieres/montpellier-3-34000/agence-70171/                 253\n",
       "https://www.seloger.com/professionnels/agences-immobilieres/paris-2eme-arrondissement-75002/agence-278407/    126\n",
       "https://www.seloger.com/professionnels/agences-immobilieres/st-cloud-92210/agence-3351/                       113\n",
       "https://www.seloger.com/professionnels/agences-immobilieres/dijon-21000/agence-69516/                          94\n",
       "https://www.seloger.com/professionnels/agences-immobilieres/paris-9eme-arrondissement-75009/agence-21789/      90\n",
       "                                                                                                             ... \n",
       "https://www.seloger.com/professionnels/agences-immobilieres/paris-2eme-arrondissement-75002/agence-34335/       1\n",
       "https://www.seloger.com/professionnels/agences-immobilieres/issy-les-moulineaux-92130/agence-62093/             1\n",
       "https://www.seloger.com/professionnels/agences-immobilieres/la-garenne-colombes-92250/agence-104734/            1\n",
       "https://www.seloger.com/professionnels/agences-immobilieres/levallois-perret-92300/agence-70869/                1\n",
       "https://www.seloger.com/professionnels/agences-immobilieres/versailles-78000/agence-306262/                     1\n",
       "Name: count, Length: 439, dtype: int64"
      ]
     },
     "metadata": {},
     "output_type": "display_data"
    },
    {
     "name": "stdout",
     "output_type": "stream",
     "text": [
      "agency_contact_name\n"
     ]
    },
    {
     "data": {
      "text/plain": [
       "agency_contact_name\n",
       "CDC HABITAT                 253\n",
       "YFRI pour CSO               126\n",
       "White Bird - Trodé          113\n",
       "IMODIRECT                    94\n",
       "OIKO GESTION                 90\n",
       "                           ... \n",
       "GUY HOQUET IMMOBILIER         1\n",
       "KALSTONE                      1\n",
       "GROUPE IMMO PARTNERS          1\n",
       "Agence Martin Côté Seine      1\n",
       "PLEIADES ESTATE               1\n",
       "Name: count, Length: 428, dtype: int64"
      ]
     },
     "metadata": {},
     "output_type": "display_data"
    },
    {
     "name": "stdout",
     "output_type": "stream",
     "text": [
      "agency_img_url\n"
     ]
    },
    {
     "data": {
      "text/plain": [
       "agency_img_url\n",
       "https://v.seloger.com/s/width/150/logos/1/5/m/r/15mr2o5n7g79pgj5th66spo93dzvtg0j4c2qepvlh.jpg     253\n",
       "https://v.seloger.com/s/width/150/logos/1/l/e/x/1lexxthty9dqfqe77q4mng7lhurdqd7hbpaf2o8ym.jpg     113\n",
       "https://v.seloger.com/s/height/150/logos/1/z/f/u/1zfuog6a9c7fsclvou7brs7z3xs7ntylb3ubt9z6d.jpg     94\n",
       "https://v.seloger.com/s/width/150/logos/1/d/m/s/1dmsnt7dz5vbxbvck34vsovp57bv4yhmimb1kaphc.jpg      90\n",
       "https://v.seloger.com/s/width/75/logos/1/y/1/e/1y1enty6rd88dbufwm6etu6agp268lrrkuu2uepvk.jpg       84\n",
       "                                                                                                 ... \n",
       "https://v.seloger.com/s/width/150/logos/0/1/l/r/01lrqhml9fowpvzvvcercrz17p42d4br8k5kmgy1w.jpg       1\n",
       "https://v.seloger.com/s/width/150/logos/0/i/k/a/0ikalcvis347x3ea9b7h4ubr51s8kw2rf8i5rq9xc.jpg       1\n",
       "https://v.seloger.com/s/width/150/logos/1/c/m/3/1cm32swq31i77mugqqyzkh2z2z2jrnpyxbjof6080.jpg       1\n",
       "https://v.seloger.com/s/width/150/logos/1/l/k/3/1lk381xo0rh0tr30v2s5n36a1fc6s0y7jme7hkb14.jpg       1\n",
       "https://v.seloger.com/s/width/150/logos/0/t/n/z/0tnz1hpf0d66movk3h4mmeltgdyey72ctbx7nk0s5.jpg       1\n",
       "Name: count, Length: 376, dtype: int64"
      ]
     },
     "metadata": {},
     "output_type": "display_data"
    },
    {
     "name": "stdout",
     "output_type": "stream",
     "text": [
      "agency_phone_number\n"
     ]
    },
    {
     "data": {
      "text/plain": [
       "agency_phone_number\n",
       "09 72 15 17 78    118\n",
       "01 46 02 47 72    113\n",
       "09 72 15 15 10     94\n",
       "01 87 65 24 53     84\n",
       "01 40 70 95 10     83\n",
       "                 ... \n",
       "01 46 44 40 00      1\n",
       "01 70 21 28 99      1\n",
       "06 49 22 53 21      1\n",
       "06 68 34 00 84      1\n",
       "06 13 56 20 62      1\n",
       "Name: count, Length: 488, dtype: int64"
      ]
     },
     "metadata": {},
     "output_type": "display_data"
    },
    {
     "name": "stdout",
     "output_type": "stream",
     "text": [
      "agency_has_email\n"
     ]
    },
    {
     "data": {
      "text/plain": [
       "agency_has_email\n",
       "t    4764\n",
       "f       5\n",
       "Name: count, dtype: int64"
      ]
     },
     "metadata": {},
     "output_type": "display_data"
    },
    {
     "name": "stdout",
     "output_type": "stream",
     "text": [
      "agency_link\n"
     ]
    },
    {
     "data": {
      "text/plain": [
       "agency_link\n",
       "https://www.cdc-habitat.fr/                               253\n",
       "https://www.whitebird.immo/                               113\n",
       "http://www.imodirect.com/                                  94\n",
       "https://www.oikogestion.fr/                                90\n",
       "http://www.alma-immobilier.com/                            83\n",
       "                                                         ... \n",
       "http://www.stephaneplazaimmobilier.com/                     1\n",
       "http://www.guyhoquet-immobilier-brie-comte-robert.com/      1\n",
       "http://ww.floriloge.com/                                    1\n",
       "https://kalstone.fr/                                        1\n",
       "http://www.neogestimmo.fr/                                  1\n",
       "Name: count, Length: 321, dtype: int64"
      ]
     },
     "metadata": {},
     "output_type": "display_data"
    },
    {
     "name": "stdout",
     "output_type": "stream",
     "text": [
      "address\n"
     ]
    },
    {
     "data": {
      "text/plain": [
       "address\n",
       "Paris 16ème             393\n",
       "Paris 8ème              237\n",
       "Clichy                  191\n",
       "Paris 17ème             166\n",
       "Versailles              149\n",
       "                       ... \n",
       "Courcouronnes             1\n",
       "Boussy-Saint-Antoine      1\n",
       "Chalifert                 1\n",
       "Ris-Orangis               1\n",
       "Menucourt                 1\n",
       "Name: count, Length: 242, dtype: int64"
      ]
     },
     "metadata": {},
     "output_type": "display_data"
    },
    {
     "name": "stdout",
     "output_type": "stream",
     "text": [
      "area\n"
     ]
    },
    {
     "data": {
      "text/plain": [
       "area\n",
       "100.000000    43\n",
       "15.068493     32\n",
       "50.000000     28\n",
       "62.500000     24\n",
       "30.000000     22\n",
       "              ..\n",
       "28.333333      1\n",
       "53.166667      1\n",
       "39.800000      1\n",
       "23.913043      1\n",
       "37.941176      1\n",
       "Name: count, Length: 988, dtype: int64"
      ]
     },
     "metadata": {},
     "output_type": "display_data"
    },
    {
     "name": "stdout",
     "output_type": "stream",
     "text": [
      "bedrooms_count\n"
     ]
    },
    {
     "data": {
      "text/plain": [
       "bedrooms_count\n",
       "0.0    1838\n",
       "2.0    1131\n",
       "1.0     888\n",
       "3.0     632\n",
       "4.0     195\n",
       "5.0      18\n",
       "6.0       5\n",
       "Name: count, dtype: int64"
      ]
     },
     "metadata": {},
     "output_type": "display_data"
    },
    {
     "name": "stdout",
     "output_type": "stream",
     "text": [
      "business_unit\n"
     ]
    },
    {
     "data": {
      "text/plain": [
       "business_unit\n",
       "1    4276\n",
       "5     493\n",
       "Name: count, dtype: int64"
      ]
     },
     "metadata": {},
     "output_type": "display_data"
    },
    {
     "name": "stdout",
     "output_type": "stream",
     "text": [
      "coownership_annual_charges\n"
     ]
    },
    {
     "data": {
      "text/plain": [
       "coownership_annual_charges\n",
       "0.0       602\n",
       "1200.0     10\n",
       "960.0       9\n",
       "4800.0      9\n",
       "4080.0      9\n",
       "1680.0      9\n",
       "2100.0      8\n",
       "2040.0      6\n",
       "4500.0      5\n",
       "2073.0      5\n",
       "4392.0      5\n",
       "1090.0      5\n",
       "6284.0      5\n",
       "200.0       5\n",
       "1560.0      5\n",
       "2620.0      4\n",
       "900.0       4\n",
       "840.0       4\n",
       "720.0       4\n",
       "1000.0      4\n",
       "2784.0      4\n",
       "2844.0      4\n",
       "2500.0      4\n",
       "2940.0      4\n",
       "2400.0      4\n",
       "1500.0      3\n",
       "2683.0      2\n",
       "2950.0      1\n",
       "1320.0      1\n",
       "600.0       1\n",
       "1176.0      1\n",
       "935.0       1\n",
       "2964.0      1\n",
       "890.0       1\n",
       "Name: count, dtype: int64"
      ]
     },
     "metadata": {},
     "output_type": "display_data"
    },
    {
     "name": "stdout",
     "output_type": "stream",
     "text": [
      "coownership_number_of_lots\n"
     ]
    },
    {
     "data": {
      "text/plain": [
       "coownership_number_of_lots\n",
       "0.0       217\n",
       "85.0       29\n",
       "8.0        14\n",
       "14.0       13\n",
       "40.0       11\n",
       "4.0        10\n",
       "60.0        9\n",
       "84.0        9\n",
       "25.0        5\n",
       "6.0         5\n",
       "32.0        5\n",
       "394.0       5\n",
       "10.0        5\n",
       "196.0       5\n",
       "74.0        5\n",
       "180.0       5\n",
       "12.0        5\n",
       "57.0        4\n",
       "33.0        4\n",
       "100.0       4\n",
       "3127.0      4\n",
       "18.0        4\n",
       "82.0        4\n",
       "150.0       4\n",
       "207.0       4\n",
       "11.0        4\n",
       "1.0         4\n",
       "357.0       4\n",
       "200.0       4\n",
       "250.0       4\n",
       "395.0       3\n",
       "5.0         3\n",
       "2635.0      3\n",
       "912.0       2\n",
       "24.0        1\n",
       "50.0        1\n",
       "52.0        1\n",
       "Name: count, dtype: int64"
      ]
     },
     "metadata": {},
     "output_type": "display_data"
    },
    {
     "name": "stdout",
     "output_type": "stream",
     "text": [
      "coownership_is_syndic_procedure\n"
     ]
    },
    {
     "data": {
      "text/plain": [
       "coownership_is_syndic_procedure\n",
       "f    3493\n",
       "t       9\n",
       "Name: count, dtype: int64"
      ]
     },
     "metadata": {},
     "output_type": "display_data"
    },
    {
     "name": "stdout",
     "output_type": "stream",
     "text": [
      "contact_is_private_seller\n"
     ]
    },
    {
     "data": {
      "text/plain": [
       "contact_is_private_seller\n",
       "f    4769\n",
       "Name: count, dtype: int64"
      ]
     },
     "metadata": {},
     "output_type": "display_data"
    },
    {
     "name": "stdout",
     "output_type": "stream",
     "text": [
      "contact_email\n"
     ]
    },
    {
     "data": {
      "text/plain": [
       "contact_email\n",
       "t    4764\n",
       "Name: count, dtype: int64"
      ]
     },
     "metadata": {},
     "output_type": "display_data"
    },
    {
     "name": "stdout",
     "output_type": "stream",
     "text": [
      "description\n"
     ]
    },
    {
     "data": {
      "text/plain": [
       "description\n",
       "[FR] COMMENT FONCTIONNE ROOMLESS ? Roomless est une plateforme en ligne pour les locations à moyen et long terme qui a été créée pour garantir la tranquillité du locataire : nous vérifions toutes les appartements et les photos sont récentes et fiables, vous pouvez donc réserver en ligne en toute confiance pour éviter que quelqu'un d'autre ne le fasse avant vous. Pour réserver en ligne, suivez le lien ci-dessus et cliquez sur 'Louer maintenant'. Si vous avez besoin d'aide, contactez-nous et nous vous assisterons.  Chambre individuelle disponible à Créteil Dans l'appartement il y a 13 salles de bains . L'appartement a une surface totale de 350 mètres carrés L'appartement peut accueillir jusqu'à 16 locataires. L'appartement est meublé et dispose des services suivants : WiFi, Place de parking , Emplacement vélo, Bureau, Armoire, Machine à laver, Douche, Jardin, Terrasse, Porte blindée, Salon, Lave-vaisselle, Four, Congélateur, Plaque de cuisson, Frigo, Télévision, Chauffage centralisé, Cuisine équipée , Invités admis Il est important de noter que les services publics ne sont pas inclus dans le prix du loyer. Lorsque vous réservez à travers le site de l'agence, vous devez payer des frais d'agence, qui seront calculés en fonction de la durée de la réservation  [ITA] COME FUNZIONA ROOMLESS? Roomless è una piattaforma online per affitti a medio-lungo termine che nasce come garanzia per l'inquilino: verifichiamo tutti gli appartamenti e le foto sono recenti ed affidabili quindi puoi prenotare online nella massima tranquillità per evitare che qualcuno lo faccia prima di te. Per prenotare online, segui il link sopra e clicca su 'affitta subito'. Se hai bisogno di aiuto, contattaci e ti aiuteremo.  Available private room in Créteil There are 13 bathrooms in the apartment . The apartment has a total area of 350 square meters The apartment can accommodate up to 16 tenants. The apartment is furnished and there are following amenities: WiFi, Car parking , Bike spot, Desk, Closet, Washing machine, Shower, Garden, Terrace, Armored door, Living room, Dish washer, Oven, Freezer, Cooktop, Fridge, TV, Centralized heating, Equipped kitchen, Guest allowed Please note that utilities are not included in the rental price. Quando prenoti attraverso il sito dell'agenzia, devi pagare una tassa di agenzia, che sarà calcolata in base alla durata della prenotazione    36\n",
       "Au cœur de Paris La Défense, au sein du plus grand quartier d’affaires d’Europe, découvrez notre résidence pour jeunes actifs et étudiants YouFirst Campus Paris La Défense !  Ce studio pour jeunes actifs et étudiants est un cocon moderne et pratique, offrant un espace de vie fonctionnel pour travailler, se détendre et cuisiner. La pièce principale est équipée d'un lit confortable pour une nuit de sommeil réparatrice et d'un espace de rangement pour vos effets personnels. Le coin cuisine est équipé d'une plaque de cuisson, d'un réfrigérateur, d'un micro-onde et de placards pour ranger votre vaisselle et vos provisions. La salle d'eau est équipée d'une douche, d'un lavabo et de toilettes pour votre confort. Ce studio est idéal pour les jeunes actifs et les étudiants à la recherche d'un logement pratique et fonctionnel.  Services inclus : Wifi : connexion très haut débit Electricité, Chauffage, Eau Un YouFirst Manager à votre Service Vidéosurveillance et accès par digicode Salle de sport Laverie                                                                                                                                                                                                                                                                                                                                                                                                                                                                                                                                                                                                                                                                                                                                                                                                                                                                                                                                                                                                                                                                                                                                                                                                                                                                                                                                                                                                                           16\n",
       "Résidence Étudiante à Pierrefitte-sur-Seine !  Découvrez notre résidence étudiante de choix à Pierrefitte-sur-Seine, où le confort, la convivialité et la commodité se combinent pour créer un environnement idéal pour votre vie étudiante. Qui ouvrira ses portes le 3 Janvier 2024  Caractéristiques du Logement :  Type : Studio Superficie : à partir de 18 m² Cuisine équipée avec réfrigérateur, plaques de cuisson et micro-ondes Salle d'eau privée avec douche Internet haut débit inclus Mobilier moderne et fonctionnel Espace de rangement généreux Loyer à partir de 635 euros et frais de dossier à hauteur de 499 euros  Services de la Résidence :  Un accès sécurisé 24h/24 pour vous assurer une tranquillité d'esprit. Salle de fitness Salle commune Local à vélos Personnel amical et disponible pour vous aider Environnement convivial et propice aux études Une localisation Idéale : Notre résidence se trouve à quelques pas des transports en commun, des commerces locaux et des campus universitaires. Vous serez au cœur de tout ce dont vous avez besoin pour réussir vos études. Votre nouvelle maison étudiante vous attend à Pierrefitte-sur-Seine. Les places sont limitées, alors n'attendez pas pour réserver la vôtre !  N'attendez pas, réservez dès maintenant votre logement étudiant au sein de la résidence Green Fabrik à Pierrefitte-sur-Seine et profitez d'un environnement propice à la réussite de vos études. Vivez confortablement, étudiez efficacement, réservez simplement dès aujourd'hui sur notre site internet.                                                                                                                                                                                                                                                                                                                                                                                                                                                                                                                                                                                                                                                                                                                                                                                                                                                                                                10\n",
       "Au cœur de Paris La Défense, au sein du plus grand quartier d’affaires d’Europe, découvrez notre résidence pour jeunes actifs et étudiants YouFirst Campus Paris La Défense !  Ce studio jeunes actifs et étudiants est un cocon moderne et pratique, offrant un espace de vie fonctionnel pour travailler, se détendre et cuisiner. La pièce principale est équipée d'un lit confortable pour une nuit de sommeil réparatrice et d'un espace de rangement pour vos effets personnels. Le coin cuisine est équipé d'une plaque de cuisson, d'un réfrigérateur, d'un micro-onde et de placards pour ranger votre vaisselle et vos provisions. La salle d'eau est équipée d'une douche, d'un lavabo et de toilettes pour votre confort. Ce studio est idéal pour les jeunes actifs et les étudiants à la recherche d'un logement pratique et fonctionnel.  Services inclus : Wifi : connexion très haut débit Electricité, Chauffage, Eau Un YouFirst Manager à votre Service Vidéosurveillance et accès par digicode Salle de sport Laverie                                                                                                                                                                                                                                                                                                                                                                                                                                                                                                                                                                                                                                                                                                                                                                                                                                                                                                                                                                                                                                                                                                                                                                                                                                                                                                                                                                                                                                 8\n",
       "RUE JEAN DUTILLOY, au 3ème étage d'un immeuble avec ascenseur. Beau 4 Pièces loué vide de 107,69 m2, EN PARFAIT ETAT, comprenant une entrée, un séjour, une salle à manger (possibilité 3ème chambre), une cuisine séparée (aménagée), un dégagement avec placard, deux chambres, deux salles de bains et un WC séparé. Chauffage et eau chaude individuels. CALME et LUMINEUX. A proximité immédiate de la Gare d'Asnières (Lignes J et L). LIBRE DE SUITE. Loyer : 2 050 EUR charges comprises. En remplissant le formulaire de contact via l'annonce, vous recevrez un mail via CASAP pour prendre rendez-vous en ligne. DPE : 257(E) et GES : 55 (E), estimation des coûts annuels d'énergie du logement entre 1 832 EUR et 2 478 EUR par an. Les informations sur les risques auxquels ce bien est exposé sont disponibles sur le site Géorisques '                                                                                                                                                                                                                                                                                                                                                                                                                                                                                                                                                                                                                                                                                                                                                                                                                                                                                                                                                                                                                                                                                                                                                                                                                                                                                                                                                                                                                                                                                                                                                                                                                   5\n",
       "                                                                                                                                                                                                                                                                                                                                                                                                                                                                                                                                                                                                                                                                                                                                                                                                                                                                                                                                                                                                                                                                                                                                                                                                                                                                                                                                                                                                                                                                                                                                                                                                                                                                                                                                                                                                                                                                                                                                                                                                                                                                                                                                                                                                                                                                                                                                                                                                                                                                          ..\n",
       "Vous allez apprécier ce studio en très bon état au 2ème étage sans ascenseur, secteur proche centre ville et grand parking à proximité pour le stationnement. Pièce de vie avec coin cuisine aménagée et équipée d'une hotte, plaque de cuisson, une salle d'eau, un wc. Chauffage électrique Disponible mi-février ! Isabelle GIOBERTI (EI) Agent Commercial - Numéro RSAC : - .                                                                                                                                                                                                                                                                                                                                                                                                                                                                                                                                                                                                                                                                                                                                                                                                                                                                                                                                                                                                                                                                                                                                                                                                                                                                                                                                                                                                                                                                                                                                                                                                                                                                                                                                                                                                                                                                                                                                                                                                                                                                                          1\n",
       "CHALIFERT, à 5mn du Val d'Europe, dans une petite monopropriété, bel appartement f2 en duplex offrant : Une cuisine ouverte aménagée et équipée (meubles, hotte, plaque, four), un séjour avec accès à la terrasse et jardin, une cave voutée. A l'étage : une chambre avec placard, une salle d'eau avec WC. Une place de parking. Chauffage électrique. Compteurs EAU et EDF individuels. Libre le 23/12/2023. LOYER C.C. : 890 euros Copropriété de 10 lots.                                                                                                                                                                                                                                                                                                                                                                                                                                                                                                                                                                                                                                                                                                                                                                                                                                                                                                                                                                                                                                                                                                                                                                                                                                                                                                                                                                                                                                                                                                                                                                                                                                                                                                                                                                                                                                                                                                                                                                                                            1\n",
       "NY 301 - Situé au 3ème étage avec ascenseur d'un immeuble moderne de standing, bel appartement 3 pièces vide de 70m². Il se compose d'une entrée, d'un vaste séjour, d'une cuisine aménagée ouverte, de deux chambres, d'une salle de bain avec WC et un WC séparé. Chauffage (par le sol inclus dans les charges jusqu'à 20°) et eau chaude électriques. L'eau froide / chaude ainsi que l'électricité sont à la charge du locataire et non compris dans le loyer (provision en sus de 70 euros). L'ensemble immobilier est complété par un emplacement de parking en sous-sol et une cave. La localisation idéale de l'appartement vous séduira : à proximité des commerces et à 5 minutes à pieds de la ligne 1 du métro (Les Sablons). Honoraires charge locataire : 1 050 euros TTC, si bail société ou résidence secondaire 12% du loyer annuel HT. DE LACROIX Jacqueline - Plus d'informations (réf. 9201896)                                                                                                                                                                                                                                                                                                                                                                                                                                                                                                                                                                                                                                                                                                                                                                                                                                                                                                                                                                                                                                                                                                                                                                                                                                                                                                                                                                                                                                                                                                                                                       1\n",
       "Location disponibilité à partir du 15 Juillet 2023. A 1 minute de la gare, dans résidence calme, appartement de 3 pièces comprenant : une entrée avec rangement, un séjour de 24 m², une cuisine, un dégagement, un couloir avec rangement, deux chambres de 10 m² et 12 m², une salle de douche, des WC séparés et une cave. Appartement très lumineux.                                                                                                                                                                                                                                                                                                                                                                                                                                                                                                                                                                                                                                                                                                                                                                                                                                                                                                                                                                                                                                                                                                                                                                                                                                                                                                                                                                                                                                                                                                                                                                                                                                                                                                                                                                                                                                                                                                                                                                                                                                                                                                                   1\n",
       "APPARTEMENT DE TYPE F2 SAVIGNY PROCHE GARE, COMPRENANT UNE ENTREE AVEC ESCALIER, SEJOUR AVEC COIN CUISINE (ELEMENTS, PLAQUES, HOTTE), UNE CHAMBRE ET UNE SALLE D'EAU AVEC WC.   Loyer : 826 euros par mois, charges comprises dont 162 euros de charges locatives (provision donnant lieu à régularisation) Dépot de garantie : 664.24 euros Honoraires charges locataire 350 euros TTC dont 70 euros pour état des lieux  Montant estimé des dépenses annuelles d'énergie pour un usage standard : non communiqué.                                                                                                                                                                                                                                                                                                                                                                                                                                                                                                                                                                                                                                                                                                                                                                                                                                                                                                                                                                                                                                                                                                                                                                                                                                                                                                                                                                                                                                                                                                                                                                                                                                                                                                                                                                                                                                                                                                                                                        1\n",
       "Name: count, Length: 818, dtype: int64"
      ]
     },
     "metadata": {},
     "output_type": "display_data"
    },
    {
     "name": "stdout",
     "output_type": "stream",
     "text": [
      "district\n"
     ]
    },
    {
     "data": {
      "text/plain": [
       "district\n",
       "Centre Ville                    161\n",
       "Porte Dauphine                   88\n",
       "Triangle d'Or                    76\n",
       "Chaillot                         66\n",
       "Muette Nord                      63\n",
       "                               ... \n",
       "Réveil Matin                      1\n",
       "Bac-Bécon-Flachat-Colombes        1\n",
       "Domaine National du Château       1\n",
       "Charles de Gaulle-Gambetta        1\n",
       "Bel Air-Grands Pêchers-Renan      1\n",
       "Name: count, Length: 395, dtype: int64"
      ]
     },
     "metadata": {},
     "output_type": "display_data"
    },
    {
     "name": "stdout",
     "output_type": "stream",
     "text": [
      "dpe\n"
     ]
    },
    {
     "data": {
      "text/plain": [
       "dpe\n",
       "D    836\n",
       "E    565\n",
       "C    532\n",
       "F    218\n",
       "B    217\n",
       "G     75\n",
       "A     68\n",
       "Name: count, dtype: int64"
      ]
     },
     "metadata": {},
     "output_type": "display_data"
    },
    {
     "name": "stdout",
     "output_type": "stream",
     "text": [
      "estate_type\n"
     ]
    },
    {
     "data": {
      "text/plain": [
       "estate_type\n",
       "Appartement    3890\n",
       "Studio          771\n",
       "Duplex          104\n",
       "Triplex           4\n",
       "Name: count, dtype: int64"
      ]
     },
     "metadata": {},
     "output_type": "display_data"
    },
    {
     "name": "stdout",
     "output_type": "stream",
     "text": [
      "electricity_consumption\n"
     ]
    },
    {
     "data": {
      "text/plain": [
       "electricity_consumption\n",
       "164.0    39\n",
       "60.0     39\n",
       "80.0     34\n",
       "165.0    34\n",
       "69.0     32\n",
       "         ..\n",
       "50.0      1\n",
       "276.0     1\n",
       "114.0     1\n",
       "161.0     1\n",
       "267.0     1\n",
       "Name: count, Length: 282, dtype: int64"
      ]
     },
     "metadata": {},
     "output_type": "display_data"
    },
    {
     "name": "stdout",
     "output_type": "stream",
     "text": [
      "estate_type_id\n"
     ]
    },
    {
     "data": {
      "text/plain": [
       "estate_type_id\n",
       "1    4769\n",
       "Name: count, dtype: int64"
      ]
     },
     "metadata": {},
     "output_type": "display_data"
    },
    {
     "name": "stdout",
     "output_type": "stream",
     "text": [
      "features\n"
     ]
    },
    {
     "data": {
      "text/plain": [
       "features\n",
       "Construit en 2023, Dispo le 01/01/2024, Parking, Ascenseur, Chauffage collectif au gaz                                                                                                                              51\n",
       "Terrasse, Jardin, Calme, Pas d'ascenseur, Gardien, Cuisine équipée, 13 salles de bain (baignoire), Entrée séparée, Chauffage collectif                                                                              36\n",
       "Balcon, Ascenseur, Salle de bain (baignoire), Salle d'eau (douche), Toilettes, Entrée séparée, Parquet, Chauffage : au sol                                                                                          20\n",
       "Balcon, Ascenseur, Gardien, Salle de bain (baignoire), Salle d'eau (douche), Toilettes, Séjour / salon, Entrée séparée, Parquet, Chauffage collectif                                                                19\n",
       "Construit en 1962, Balcon, Exposition Sud, Sans vis-à-vis, Parking, Ascenseur, Salle de bain (baignoire), Placards / rangements, Chauffage collectif au gaz                                                         15\n",
       "                                                                                                                                                                                                                    ..\n",
       "Balcon, Calme, Cave, Pas d'ascenseur, Interphone, Aucune cuisine, Salle d'eau (douche), Toilettes, Séjour / salon 24 m², Entrée séparée, Placards / rangements, Chauffage collectif au gaz : radiateur               1\n",
       "Pas d'ascenseur, Cuisine équipée, Salle d'eau (douche), Toilettes, Chauffage individuel électrique : radiateur                                                                                                       1\n",
       "Dispo le 23/12/2023, Terrasse, Jardin, Parking, Pas d'ascenseur, Cuisine américaine équipée, Salle d'eau (douche), Toilettes, Séjour / salon, Placards / rangements, Chauffage individuel électrique                 1\n",
       "Parking, Cave, Ascenseur, Digicode, Interphone, Cuisine séparée équipée, Salle de bain (baignoire), 2 toilettes, Toilettes séparées, Séjour / salon, Entrée séparée, Placards / rangements, Chauffage électrique     1\n",
       "Pas d'ascenseur, Cuisine équipée, Salle d'eau (douche), Toilettes, Séjour / salon, Entrée séparée, Chauffage individuel électrique                                                                                   1\n",
       "Name: count, Length: 784, dtype: int64"
      ]
     },
     "metadata": {},
     "output_type": "display_data"
    },
    {
     "name": "stdout",
     "output_type": "stream",
     "text": [
      "ges\n"
     ]
    },
    {
     "data": {
      "text/plain": [
       "ges\n",
       "C    758\n",
       "B    544\n",
       "D    537\n",
       "E    358\n",
       "F    177\n",
       "A    126\n",
       "G     12\n",
       "Name: count, dtype: int64"
      ]
     },
     "metadata": {},
     "output_type": "display_data"
    },
    {
     "name": "stdout",
     "output_type": "stream",
     "text": [
      "gas_emissions\n"
     ]
    },
    {
     "data": {
      "text/plain": [
       "gas_emissions\n",
       "7.0      125\n",
       "10.0     120\n",
       "9.0      119\n",
       "16.0     107\n",
       "14.0     101\n",
       "        ... \n",
       "74.0       4\n",
       "96.0       4\n",
       "75.0       4\n",
       "70.0       4\n",
       "114.0      3\n",
       "Name: count, Length: 87, dtype: int64"
      ]
     },
     "metadata": {},
     "output_type": "display_data"
    },
    {
     "name": "stdout",
     "output_type": "stream",
     "text": [
      "highlighting_level\n"
     ]
    },
    {
     "data": {
      "text/plain": [
       "highlighting_level\n",
       "2    3149\n",
       "3    1620\n",
       "Name: count, dtype: int64"
      ]
     },
     "metadata": {},
     "output_type": "display_data"
    },
    {
     "name": "stdout",
     "output_type": "stream",
     "text": [
      "insee_code\n"
     ]
    },
    {
     "data": {
      "text/plain": [
       "Series([], Name: count, dtype: int64)"
      ]
     },
     "metadata": {},
     "output_type": "display_data"
    },
    {
     "name": "stdout",
     "output_type": "stream",
     "text": [
      "is_exclusive\n"
     ]
    },
    {
     "data": {
      "text/plain": [
       "is_exclusive\n",
       "f    3207\n",
       "t    1562\n",
       "Name: count, dtype: int64"
      ]
     },
     "metadata": {},
     "output_type": "display_data"
    },
    {
     "name": "stdout",
     "output_type": "stream",
     "text": [
      "is_redirected\n"
     ]
    },
    {
     "data": {
      "text/plain": [
       "Series([], Name: count, dtype: int64)"
      ]
     },
     "metadata": {},
     "output_type": "display_data"
    },
    {
     "name": "stdout",
     "output_type": "stream",
     "text": [
      "is_expired\n"
     ]
    },
    {
     "data": {
      "text/plain": [
       "is_expired\n",
       "f    4769\n",
       "Name: count, dtype: int64"
      ]
     },
     "metadata": {},
     "output_type": "display_data"
    },
    {
     "name": "stdout",
     "output_type": "stream",
     "text": [
      "latitude\n"
     ]
    },
    {
     "data": {
      "text/plain": [
       "latitude\n",
       "48.953251    56\n",
       "48.870449    42\n",
       "48.903852    38\n",
       "48.904628    35\n",
       "48.888424    24\n",
       "             ..\n",
       "48.869549     1\n",
       "48.898276     1\n",
       "48.882263     1\n",
       "48.850948     1\n",
       "48.818070     1\n",
       "Name: count, Length: 349, dtype: int64"
      ]
     },
     "metadata": {},
     "output_type": "display_data"
    },
    {
     "name": "stdout",
     "output_type": "stream",
     "text": [
      "longitude\n"
     ]
    },
    {
     "data": {
      "text/plain": [
       "longitude\n",
       "2.880507    56\n",
       "2.224639    42\n",
       "2.294498    38\n",
       "2.306062    35\n",
       "2.235221    24\n",
       "            ..\n",
       "2.319476     1\n",
       "2.384861     1\n",
       "2.300968     1\n",
       "2.385586     1\n",
       "2.464390     1\n",
       "Name: count, Length: 349, dtype: int64"
      ]
     },
     "metadata": {},
     "output_type": "display_data"
    },
    {
     "name": "stdout",
     "output_type": "stream",
     "text": [
      "monthly_price\n"
     ]
    },
    {
     "data": {
      "text/plain": [
       "monthly_price\n",
       "0      4709\n",
       "122      15\n",
       "94       10\n",
       "111      10\n",
       "178       5\n",
       "138       5\n",
       "150       5\n",
       "125       4\n",
       "105       4\n",
       "130       2\n",
       "Name: count, dtype: int64"
      ]
     },
     "metadata": {},
     "output_type": "display_data"
    },
    {
     "name": "stdout",
     "output_type": "stream",
     "text": [
      "main_picture\n"
     ]
    },
    {
     "data": {
      "text/plain": [
       "main_picture\n",
       "https://v.seloger.com/s/crop/414x414/visuels/2/9/l/y/29lyj0z9qzqsa6zauo3rcnzum3jpnovilwknv3kg6.jpg    32\n",
       "https://v.seloger.com/s/crop/414x414/visuels/1/s/z/5/1sz5xu0w6sscmnhyprrddjc2r5ljyd6tvisgoiv6c.jpg    32\n",
       "https://v.seloger.com/s/crop/414x414/visuels/0/c/u/h/0cuhqn0neqr8o9dfhe3l0ltgcqgt4ix5liyxkvuig.jpg    16\n",
       "https://v.seloger.com/s/crop/414x414/visuels/0/s/m/0/0sm045580c2sy82a7egvcdqlevgsm0j4id9jy2b6o.jpg    12\n",
       "https://v.seloger.com/s/crop/414x414/visuels/1/s/x/7/1sx7tpeenzfcm40ukzeye9rh0kwt6bg08tat1utfy.jpg    10\n",
       "                                                                                                      ..\n",
       "https://v.seloger.com/s/crop/414x414/visuels/1/a/u/p/1aups7s0o80owxfd8wkeueci23jqs65jh1cln4coo.jpg     1\n",
       "https://v.seloger.com/s/crop/414x414/visuels/0/k/x/d/0kxd57oh8snuqtr31p0wt1uc2e3te3001k9476asq.jpg     1\n",
       "https://v.seloger.com/s/crop/414x414/visuels/1/b/w/5/1bw5xjudukveg4l0r28nqo1jj3r2l5i7ai1y431cw.jpg     1\n",
       "https://v.seloger.com/s/crop/414x414/visuels/1/9/g/v/19gvpp4a0jr1ajb3mtyuv6wi4442zk5pld9wh8gbk.jpg     1\n",
       "https://v.seloger.com/s/crop/414x414/visuels/1/f/7/d/1f7dg6q93mmcrdy04zbo7vofxjszxi26xkhlo4s8w.jpg     1\n",
       "Name: count, Length: 798, dtype: int64"
      ]
     },
     "metadata": {},
     "output_type": "display_data"
    },
    {
     "name": "stdout",
     "output_type": "stream",
     "text": [
      "nature\n"
     ]
    },
    {
     "data": {
      "text/plain": [
       "nature\n",
       "1    4276\n",
       "3     493\n",
       "Name: count, dtype: int64"
      ]
     },
     "metadata": {},
     "output_type": "display_data"
    },
    {
     "name": "stdout",
     "output_type": "stream",
     "text": [
      "postal_code\n"
     ]
    },
    {
     "data": {
      "text/plain": [
       "postal_code\n",
       "75016    336\n",
       "75008    237\n",
       "92110    191\n",
       "75017    166\n",
       "78000    149\n",
       "        ... \n",
       "91800      1\n",
       "91080      1\n",
       "91130      1\n",
       "78800      1\n",
       "95180      1\n",
       "Name: count, Length: 232, dtype: int64"
      ]
     },
     "metadata": {},
     "output_type": "display_data"
    },
    {
     "name": "stdout",
     "output_type": "stream",
     "text": [
      "position\n"
     ]
    },
    {
     "data": {
      "text/plain": [
       "position\n",
       "8.0     26\n",
       "7.0     23\n",
       "2.0     21\n",
       "20.0    20\n",
       "24.0    17\n",
       "5.0     15\n",
       "16.0    14\n",
       "6.0     14\n",
       "4.0     13\n",
       "19.0    11\n",
       "1.0      9\n",
       "15.0     9\n",
       "23.0     8\n",
       "14.0     8\n",
       "18.0     7\n",
       "10.0     5\n",
       "11.0     5\n",
       "9.0      4\n",
       "0.0      4\n",
       "17.0     2\n",
       "Name: count, dtype: int64"
      ]
     },
     "metadata": {},
     "output_type": "display_data"
    },
    {
     "name": "stdout",
     "output_type": "stream",
     "text": [
      "picture_count\n"
     ]
    },
    {
     "data": {
      "text/plain": [
       "picture_count\n",
       "6     577\n",
       "8     448\n",
       "9     441\n",
       "7     431\n",
       "5     431\n",
       "10    306\n",
       "12    300\n",
       "4     254\n",
       "11    241\n",
       "13    219\n",
       "14    168\n",
       "17    107\n",
       "16    107\n",
       "1      98\n",
       "15     89\n",
       "20     80\n",
       "19     60\n",
       "3      54\n",
       "21     53\n",
       "18     40\n",
       "30     40\n",
       "23     40\n",
       "22     30\n",
       "28     27\n",
       "29     25\n",
       "2      23\n",
       "25     21\n",
       "26     17\n",
       "27      9\n",
       "31      9\n",
       "24      9\n",
       "41      5\n",
       "34      5\n",
       "32      5\n",
       "Name: count, dtype: int64"
      ]
     },
     "metadata": {},
     "output_type": "display_data"
    },
    {
     "name": "stdout",
     "output_type": "stream",
     "text": [
      "price\n"
     ]
    },
    {
     "data": {
      "text/plain": [
       "price\n",
       "2500    81\n",
       "1100    80\n",
       "2300    47\n",
       "1300    47\n",
       "1150    45\n",
       "        ..\n",
       "1159     1\n",
       "1560     1\n",
       "807      1\n",
       "1305     1\n",
       "712      1\n",
       "Name: count, Length: 631, dtype: int64"
      ]
     },
     "metadata": {},
     "output_type": "display_data"
    },
    {
     "name": "stdout",
     "output_type": "stream",
     "text": [
      "price_per_meter\n"
     ]
    },
    {
     "data": {
      "text/plain": [
       "price_per_meter\n",
       "18.0     225\n",
       "20.0     224\n",
       "19.0     213\n",
       "24.0     195\n",
       "21.0     190\n",
       "        ... \n",
       "71.0       5\n",
       "75.0       5\n",
       "132.0      4\n",
       "129.0      4\n",
       "97.0       1\n",
       "Name: count, Length: 84, dtype: int64"
      ]
     },
     "metadata": {},
     "output_type": "display_data"
    },
    {
     "name": "stdout",
     "output_type": "stream",
     "text": [
      "photos\n"
     ]
    },
    {
     "data": {
      "text/plain": [
       "photos\n",
       "https://v.seloger.com/s/crop/341x256/visuels/1/s/z/5/1sz5xu0w6sscmnhyprrddjc2r5ljyd6tvisgoiv6c.jpg, https://v.seloger.com/s/crop/341x256/visuels/1/w/f/d/1wfdvifha85i4vfkdqwc132smw2va9oh1t65lguac.jpg, https://v.seloger.com/s/crop/341x256/visuels/0/o/3/n/0o3ncsiynmc2h42q2ohbammtlmacanjl4iwvyshi8.jpg, https://v.seloger.com/s/crop/341x256/visuels/1/s/l/b/1slbm4du6dr62bi1kwuqxpm6bpri4p8mmihb6c4to.jpg, https://v.seloger.com/s/crop/341x256/visuels/0/w/r/k/0wrke4m51exb4x9spmg7gvf7stkc7r6m0au5j23pw.jpg    32\n",
       "https://v.seloger.com/s/crop/341x256/visuels/0/s/m/0/0sm045580c2sy82a7egvcdqlevgsm0j4id9jy2b6o.jpg                                                                                                                                                                                                                                                                                                                                                                                                                    12\n",
       "https://v.seloger.com/s/crop/341x256/visuels/2/0/s/z/20sza0e1y9ttxfkn1na7d7o9xgcyvkm32737wpy8e.jpg, https://v.seloger.com/s/crop/341x256/visuels/0/t/l/z/0tlz24nwgybjmepxdsgohusisfi1thgmqwqdbe9am.jpg, https://v.seloger.com/s/crop/341x256/visuels/1/k/h/u/1khuylpzefe1jmop4f2492pqw9cvj73d02xrgtmz2.jpg, https://v.seloger.com/s/crop/341x256/visuels/1/8/m/v/18mvp6vfzyqeib8pkarjtyx3aegfy3b95sipn1zm6.jpg, https://v.seloger.com/s/crop/341x256/visuels/1/d/4/f/1d4fcpkng26beu7sqa4qaa6vugu04q30c7fsw0dqm.jpg    10\n",
       "https://v.seloger.com/s/crop/341x256/visuels/1/s/0/4/1s04a8znd70agqnbfayrh6y6184hutd34jup6dhu6.jpg, https://v.seloger.com/s/crop/341x256/visuels/0/1/k/k/01kkzmqgahrhvxncg0pgqkef0zou6akpcey3yo0b2.jpg, https://v.seloger.com/s/crop/341x256/visuels/0/a/z/z/0azzp7un8dsruklpxe4z2g62btzz6a1un4csvkuby.jpg, https://v.seloger.com/s/crop/341x256/visuels/0/3/a/6/03a6fap3tut56b0sm0eli7am7h1nf91a3j7sk398u.jpg, https://v.seloger.com/s/crop/341x256/visuels/2/0/j/e/20jeqen2emxxtvodhhjybic4o9byealera37ddl72.jpg    10\n",
       "https://v.seloger.com/s/crop/341x256/visuels/1/s/x/7/1sx7tpeenzfcm40ukzeye9rh0kwt6bg08tat1utfy.jpg, https://v.seloger.com/s/crop/341x256/visuels/1/v/h/g/1vhgmbrya1zex4ole93a5ogffk5z9bp2cqvlaw32m.jpg, https://v.seloger.com/s/crop/341x256/visuels/1/4/a/h/14ah01gss14676l0ocfuq0odhttn41vyq0o429evi.jpg, https://v.seloger.com/s/crop/341x256/visuels/1/w/j/f/1wjf96nvgaihir3x43eva6h1j69blasnoi29jvuz2.jpg, https://v.seloger.com/s/crop/341x256/visuels/0/l/i/u/0liueee4xhccz6s7j3hkd0jb00wjlwd6elf3qq2ku.jpg    10\n",
       "                                                                                                                                                                                                                                                                                                                                                                                                                                                                                                                      ..\n",
       "https://v.seloger.com/s/crop/341x256/visuels/2/1/x/b/21xbz2pfrmvepovqbns042z0ofu9f2ubhx0nm5w5c.jpg, https://v.seloger.com/s/crop/341x256/visuels/0/y/i/1/0yi1e4vwp4vchpeja2mbjqs70ulwt5w8n1s1e50jk.jpg, https://v.seloger.com/s/crop/341x256/visuels/0/8/w/z/08wzaj4axhxnnbrkn6eu6cl1dfrt2e74cb7tvkpvk.jpg, https://v.seloger.com/s/crop/341x256/visuels/1/q/t/u/1qtua1jjqgnkwh4luglpoh1yp8i43aoiyued4w0lc.jpg, https://v.seloger.com/s/crop/341x256/visuels/0/g/k/5/0gk5udvwz49yor965c5amrsae3wxrd4rpjo31cxs0.jpg     1\n",
       "https://v.seloger.com/s/crop/341x256/visuels/1/x/z/y/1xzy8g50zvyvx047g7a2t1gy7lmrrhsafbl3jo09g.jpg, https://v.seloger.com/s/crop/341x256/visuels/0/x/t/8/0xt8atfs2hkfgo8vto77vli8g3rk1hg0ddv528yfo.jpg, https://v.seloger.com/s/crop/341x256/visuels/1/r/x/y/1rxyuzplj20iy8p5fusanfwpxit6f5p92y01f3fx0.jpg, https://v.seloger.com/s/crop/341x256/visuels/0/u/7/k/0u7k35acjcteiisvk90apuzjt3wakuemw8iz116xg.jpg, https://v.seloger.com/s/crop/341x256/visuels/1/l/5/w/1l5w0xb3ps0n2579edei8zaciajyin6e3fjf0zsd0.jpg     1\n",
       "https://v.seloger.com/s/crop/341x256/visuels/2/1/t/e/21te7cjxzz2pwg0t34edk8p1z3teyuqeyo3l1dovs.jpg, https://v.seloger.com/s/crop/341x256/visuels/0/4/c/9/04c9scyz6tv8nzx8v70tqt6jxbjvl2zdv1urqo7y0.jpg, https://v.seloger.com/s/crop/341x256/visuels/0/2/y/v/02yvvc5oszy2psxxlbqiafoaw0pozv9j05yx9w308.jpg, https://v.seloger.com/s/crop/341x256/visuels/1/o/4/k/1o4k0gsahjwn79pwubn1eitgfi1uldslxbfzo154o.jpg, https://v.seloger.com/s/crop/341x256/visuels/1/k/2/p/1k2py9jhxo3bjqfd7q2ur4bojd0eowohore4jkvsg.jpg     1\n",
       "https://v.seloger.com/s/crop/341x256/visuels/0/y/z/t/0yztytgg8f75fudp63ywihoybtz6jyg78i73jfquo.jpg, https://v.seloger.com/s/crop/341x256/visuels/2/9/e/d/29ed7pgyavfm5gx4z7avxll86tydsfj0wdctmzyr4.jpg, https://v.seloger.com/s/crop/341x256/visuels/0/w/v/f/0wvf0a223oc2psx03bac6ah20dvw4wkmrht3r2vu8.jpg, https://v.seloger.com/s/crop/341x256/visuels/1/3/z/9/13z96516xtvsw1m9nrlf8iu0gjfw7epkd4xfhuf1s.jpg, https://v.seloger.com/s/crop/341x256/visuels/1/f/d/g/1fdglcezprzujvpkwhn3kzpua2ml8isw53ud2kss0.jpg     1\n",
       "https://v.seloger.com/s/crop/341x256/visuels/1/7/a/u/17au8o22uqkmbys4vg1tyoi0kpjtuehv7kv8lujz4.jpg, https://v.seloger.com/s/crop/341x256/visuels/1/7/6/7/1767jj9j0lrv5pmltl1qvvvh301l2oxc5zadoy10g.jpg, https://v.seloger.com/s/crop/341x256/visuels/0/d/2/0/0d20itidk8nm97idb2a6qen3t2sotbokk9dj0ulr4.jpg, https://v.seloger.com/s/crop/341x256/visuels/1/l/q/p/1lqp7ao9uhqxiikihtjr08xde5ug6upmg7arfjjg8.jpg, https://v.seloger.com/s/crop/341x256/visuels/2/3/f/p/23fpb8ykixj2kmceu9ia254kb9odcuyltdbin4bw8.jpg     1\n",
       "Name: count, Length: 1143, dtype: int64"
      ]
     },
     "metadata": {},
     "output_type": "display_data"
    },
    {
     "name": "stdout",
     "output_type": "stream",
     "text": [
      "price_decrease_percent\n"
     ]
    },
    {
     "data": {
      "text/plain": [
       "price_decrease_percent\n",
       "20.0     195\n",
       "18.0     170\n",
       "19.0     165\n",
       "23.0     160\n",
       "24.0     153\n",
       "        ... \n",
       "11.0       4\n",
       "88.0       3\n",
       "87.0       2\n",
       "72.0       2\n",
       "101.0      2\n",
       "Name: count, Length: 72, dtype: int64"
      ]
     },
     "metadata": {},
     "output_type": "display_data"
    },
    {
     "name": "stdout",
     "output_type": "stream",
     "text": [
      "publication_id\n"
     ]
    },
    {
     "data": {
      "text/plain": [
       "publication_id\n",
       "30008798    253\n",
       "30506743    126\n",
       "30052836    113\n",
       "30117455     94\n",
       "30116383     90\n",
       "           ... \n",
       "30087770      1\n",
       "30078034      1\n",
       "30165672      1\n",
       "30107223      1\n",
       "30511383      1\n",
       "Name: count, Length: 439, dtype: int64"
      ]
     },
     "metadata": {},
     "output_type": "display_data"
    },
    {
     "name": "stdout",
     "output_type": "stream",
     "text": [
      "pricing_price_note\n"
     ]
    },
    {
     "data": {
      "text/plain": [
       "pricing_price_note\n",
       "cc     4736\n",
       "+ch      33\n",
       "Name: count, dtype: int64"
      ]
     },
     "metadata": {},
     "output_type": "display_data"
    },
    {
     "name": "stdout",
     "output_type": "stream",
     "text": [
      "ref\n"
     ]
    },
    {
     "data": {
      "text/plain": [
       "ref\n",
       "394          10\n",
       "1604         10\n",
       "106           8\n",
       "2504          8\n",
       "241           8\n",
       "             ..\n",
       "G126          1\n",
       "92018160      1\n",
       "CTMLS112      1\n",
       "2p wilson     1\n",
       "2745          1\n",
       "Name: count, Length: 824, dtype: int64"
      ]
     },
     "metadata": {},
     "output_type": "display_data"
    },
    {
     "name": "stdout",
     "output_type": "stream",
     "text": [
      "rooms\n"
     ]
    },
    {
     "data": {
      "text/plain": [
       "rooms\n",
       "3      1327\n",
       "2      1103\n",
       "4       844\n",
       "1       771\n",
       "5       434\n",
       "6       196\n",
       "7        61\n",
       "8        24\n",
       "118       5\n",
       "0         4\n",
       "Name: count, dtype: int64"
      ]
     },
     "metadata": {},
     "output_type": "display_data"
    },
    {
     "name": "stdout",
     "output_type": "stream",
     "text": [
      "short_description\n"
     ]
    },
    {
     "data": {
      "text/plain": [
       "short_description\n",
       "Location Appartement - [FR] COMMENT FONCTIONNE ROOMLESS ? Roomless est une plateforme en ligne pour les locations à moyen et long terme qui a été créée pour garantir la tranquillité du locataire : nous vérifions toutes les appartements et les photos sont récentes et fiables, vous pouvez donc réserver en ligne en toute confiance pour éviter que [...]                                                                                                                                                                                                                                                          60\n",
       "Location Appartement - Au cœur de Paris La Défense, au sein du plus grand quartier d’affaires d’Europe, découvrez notre résidence pour jeunes actifs et étudiants YouFirst Campus Paris La Défense !  Ce studio pour jeunes actifs et étudiants est un cocon moderne et pratique, offrant un espace de vie fonctionnel pour travailler, se détendre et [...]                                                                                                                                                                                                                                                             16\n",
       "Location Appartement - Résidence Étudiante à Pierrefitte-sur-Seine !  Découvrez notre résidence étudiante de choix à Pierrefitte-sur-Seine, où le confort, la convivialité et la commodité se combinent pour créer un environnement idéal pour votre vie étudiante. Qui ouvrira ses portes le 3 Janvier 2024  Caractéristiques du Logement :  Type : Studio Superficie : à partir de 18 m² Cuisine équipée avec réfrigérateur, plaques de cuisson et micro-ondes Salle d'eau privée avec douche Internet haut débit inclus Mobilier moderne et fonctionnel Espace de rangement généreux Loyer à partir de [...]          15\n",
       "Location Appartement - SANS HONORAIRES. Notre résidence 'Le Cèdre Blanc' prend place dans le quartier Maxime Vedy, où se situent tous les commerces et services de proximité (pharmacie, cafés, restaurants, commerces de bouche, coiffeur..).Actuellement la ligne de bus 399 à 170 mètres de la résidence, permet de rallier le RER de Juvisy-sur-Orge. [...]                                                                                                                                                                                                                                                          10\n",
       "Location Appartement - Logement Flatlooker ! Visitez et déposez votre dossier uniquement sur notre plateforme ! Nous ne vous enverrons jamais le bail ou le RIB par mail - tout est sécurisé sur notre plateforme.  Située à Meudon, cette chambre en colocation dans un T5 meublé en colocation de 80m² se trouve Avenue Du Maréchal De Lattre De Tassigny. Non loin de l'arrêt Meudon-la-Forêt, le logement est proche du centre commercial Westfield Vélizy 2, et dispose d'une cave et d'un parking. L'électricité, le chauffage, l'eau chaude et internet sont inclus dans les charges.  L'appartement est [...]    10\n",
       "                                                                                                                                                                                                                                                                                                                                                                                                                                                                                                                                                                                                                         ..\n",
       "Location Appartement - 3 pièces Neuf - Evry-Courcouronnes Appartement 3 pièces dans une résidence neuve sécurisé. Idéalement situé proche du RER D, de la nouvelle station du Tramway T12, du centre commercial Evry 2, du centre ville et des universités.  Au 5e étage avec ascenseur, le logement se compose :  D'un espace jour d'une [...]                                                                                                                                                                                                                                                                           1\n",
       "Location Appartement - L'ADRESSE CONCEPT PREMIUM, Laetitia BUCHER, spécialiste de la location sur le secteur de Melun et ses environs vous propose dans une résidence récente et sécurisée à Juvisy Sur Orge , au rez de chaussée surélevé , cet appartement de 2 pièces de 43.20 m². Il comprend une entrée , un coin cuisine ouvert sur le séjour , une [...]                                                                                                                                                                                                                                                           1\n",
       "Location Appartement - En plein cœur du Marais historique, à quelques pas du Métro Sully - Morland, coté Seine entre Bastille et Saint Paul. Très au calme d'un quartier animé, notamment \"rue des Lions Saint Paul\". Dépendant d'un somptueux hôtel particulier avec gardienne . Beau studio de 32.50m² au 4éme étage sans ascenseur disposant de: [...]                                                                                                                                                                                                                                                                 1\n",
       "Location Appartement - BEL APPARTEMENT de 3 Pièces 60.20 m² Très Agréable, situé dans une Copropriété au calme, proche du Centre Commercial CORA, au 1er Etage comprenant : Une entrée carrelée, Un séjour parqueté donnant sur une terrasse privative de 23.09 m² avec une pergola et un store électrique, Une cuisine aménagée et équipée (plaques de [...]                                                                                                                                                                                                                                                             1\n",
       "Location Appartement - Charmant 3 p meublé style loft, deux salles de bain dont une attenante a l'une des chambres, une chambre bureau, un grand séjour, salle à manger, une cuisine équipée, un débarras, VISITES SUR DOSSIER UNIQUEMENT.. Pour être éligible nous vous rappelons que vous devez percevoir trois fois le montant du loyer en revenu net [...]                                                                                                                                                                                                                                                            1\n",
       "Name: count, Length: 1140, dtype: int64"
      ]
     },
     "metadata": {},
     "output_type": "display_data"
    },
    {
     "name": "stdout",
     "output_type": "stream",
     "text": [
      "transaction_type\n"
     ]
    },
    {
     "data": {
      "text/plain": [
       "transaction_type\n",
       "1    4769\n",
       "Name: count, dtype: int64"
      ]
     },
     "metadata": {},
     "output_type": "display_data"
    },
    {
     "name": "stdout",
     "output_type": "stream",
     "text": [
      "title\n"
     ]
    },
    {
     "data": {
      "text/plain": [
       "title\n",
       "Location Studio Créteil - Appartement Studio F1/T1/1 pièce 15 m² 1100€/mois                        32\n",
       "Location Appartement 5 pièces Meudon - Appartement F5/T5/5 pièces 700€/mois                        10\n",
       "Location Appartement 5 pièces Suresnes - Appartement Duplex F5/T5/5 pièces 107,34 m² 2500€/mois    10\n",
       "Location Appartement 2 pièces Paris 8ème - Appartement F2/T2/2 pièces 63,5 m² 4100€/mois            9\n",
       "Location Appartement 3 pièces Paris 16ème - Appartement F3/T3/3 pièces 80 m² 3800€/mois             5\n",
       "                                                                                                   ..\n",
       "Location Appartement 2 pièces Dammarie-les-Lys - Appartement F2/T2/2 pièces 43 m² 728€/mois         1\n",
       "Location Studio Brie-Comte-Robert - Appartement F1/T1/1 pièce 17,7 m² 500€/mois                     1\n",
       "Location Appartement 2 pièces Chalifert - Appartement F2/T2/2 pièces 44 m² 890€/mois                1\n",
       "Location Appartement 3 pièces Neuilly-sur-Seine - Appartement F3/T3/3 pièces 70 m² 2682€/mois       1\n",
       "Location Appartement 2 pièces Rueil-Malmaison - Appartement F2/T2/2 pièces 39,85 m² 995€/mois       1\n",
       "Name: count, Length: 821, dtype: int64"
      ]
     },
     "metadata": {},
     "output_type": "display_data"
    },
    {
     "name": "stdout",
     "output_type": "stream",
     "text": [
      "tags\n"
     ]
    },
    {
     "data": {
      "text/plain": [
       "tags\n",
       "1 pièce, 15 m², Terrasse, Jardin                                     40\n",
       "1 pièce, 19 m², Ascenseur                                            20\n",
       "3 pièces, 2 chambres, 106 m², Étage 6/6, Ascenseur                   12\n",
       "1 pièce, 15 m²                                                       12\n",
       "5 pièces, 4 chambres, 106 m², Étage 9/–, Balcon, Ascenseur           10\n",
       "                                                                     ..\n",
       "1 pièce, 18 m², Étage 2/0                                             1\n",
       "2 pièces, 1 chambre, 43 m², Étage 2/–, Balcon, Parking, Ascenseur     1\n",
       "2 pièces, 1 chambre, 35 m², Étage 1/0                                 1\n",
       "3 pièces, 2 chambres, 67 m², Étage 1/3, Balcon                        1\n",
       "4 pièces, 3 chambres, 85 m², Étage 1/4, Box                           1\n",
       "Name: count, Length: 1132, dtype: int64"
      ]
     },
     "metadata": {},
     "output_type": "display_data"
    },
    {
     "name": "stdout",
     "output_type": "stream",
     "text": [
      "url\n"
     ]
    },
    {
     "data": {
      "text/plain": [
       "url\n",
       "https://www.bellesdemeures.com/annonces/location/tt-1-tb-1-pl-48185/182171885/                                             5\n",
       "https://www.seloger.com/annonces/locations/appartement/paris-11eme-75/bastille-popincourt/212104965.htm                    5\n",
       "https://www.seloger.com/annonces/locations/appartement/boulogne-billancourt-92/grenier-point-du-jour/211917127.htm         5\n",
       "https://www.seloger.com/annonces/locations/appartement/boulogne-billancourt-92/billancourt-rives-de-seine/211733747.htm    5\n",
       "https://www.seloger.com/annonces/locations/appartement/vanves-92/parc-des-expositions/211051621.htm                        5\n",
       "                                                                                                                          ..\n",
       "https://www.seloger.com/annonces/locations/appartement/houilles-78/reveil-matin/204935493.htm                              1\n",
       "https://www.seloger.com/annonces/locations/appartement/puteaux-92/colline/208246323.htm                                    1\n",
       "https://www.seloger.com/annonces/locations/appartement/suresnes-92/republique/211736479.htm                                1\n",
       "https://www.seloger.com/annonces/locations/appartement/versailles-78/domaine-national-du-chateau/208927117.htm             1\n",
       "https://www.bellesdemeures.com/annonces/location/tt-1-tb-1-pl-34112/207240053/                                             1\n",
       "Name: count, Length: 1170, dtype: int64"
      ]
     },
     "metadata": {},
     "output_type": "display_data"
    },
    {
     "name": "stdout",
     "output_type": "stream",
     "text": [
      "video_url\n"
     ]
    },
    {
     "data": {
      "text/plain": [
       "video_url\n",
       "https://www.youtube.com/watch?v=HonlgXxzwUs                                                        9\n",
       "https://my.matterport.com/show/?m=ppWVcb9YcMr                                                      5\n",
       "https://my.matterport.com/show/?m=6neDdnb1HyL                                                      5\n",
       "https://my.matterport.com/show/?m=jXNXmbsxx5F                                                      5\n",
       "https://my.matterport.com/show/?m=XUGvRBEfvto                                                      5\n",
       "https://youtu.be/7JAJyHQExuI                                                                       5\n",
       "https://youtu.be/hUHOZXmnJvA                                                                       5\n",
       "https://www.instagram.com/reel/Cy58Jt7NWcL/?utm_source=ig_web_copy_link&igshid=MzRlODBiNWFlZA==    5\n",
       "https://www.youtube.com/watch?v=Ouvqzi9FnXE                                                        5\n",
       "https://www.youtube.com/watch?v=uRyRjeVyLMc                                                        5\n",
       "Name: count, dtype: int64"
      ]
     },
     "metadata": {},
     "output_type": "display_data"
    },
    {
     "name": "stdout",
     "output_type": "stream",
     "text": [
      "virtual_visit_url\n"
     ]
    },
    {
     "data": {
      "text/plain": [
       "virtual_visit_url\n",
       "https://my.realbox.fr/tour/white-bird-15-rue-charles-paradinas-t5-etg-4-b403    15\n",
       "https://my.realbox.fr/tour/white-bird-19-vincent-palaric-t3-c13                 10\n",
       "https://view.ricoh360.com/72c21d8e-1a9f-4051-85ab-00223abb6b42                  10\n",
       "https://my.realbox.fr/tour/whitebird-15-rue-charles-paradinas-t4-etg-4-b402     10\n",
       "https://view.ricoh360.com/8ae169a7-5b4c-4c1f-b36a-6b944ee2e9a0                  10\n",
       "                                                                                ..\n",
       "https://vt.plushglobalmedia.com/tour/TT18BB3UWJ                                  2\n",
       "https://vt.plushglobalmedia.com/tour/TT18GRR32V                                  2\n",
       "https://vt.plushglobalmedia.com/tour/TT18G0BRX4                                  2\n",
       "https://my.matterport.com/show/?m=crWmRV4zjYJ                                    1\n",
       "https://player.previsite.net/video/E02EEA42B35A19701A6FFA6A53CDE053              1\n",
       "Name: count, Length: 147, dtype: int64"
      ]
     },
     "metadata": {},
     "output_type": "display_data"
    },
    {
     "name": "stdout",
     "output_type": "stream",
     "text": [
      "collected_at\n"
     ]
    },
    {
     "data": {
      "text/plain": [
       "collected_at\n",
       "2023-12-07 16:07:45.475597    2\n",
       "2023-12-07 16:04:46.717224    2\n",
       "2023-12-07 16:02:42.258726    2\n",
       "2023-12-07 16:02:24.115366    2\n",
       "2023-12-07 16:02:20.274457    2\n",
       "                             ..\n",
       "2023-12-07 13:53:15.536459    1\n",
       "2023-12-07 13:53:31.909545    1\n",
       "2023-12-07 13:54:31.878399    1\n",
       "2023-12-07 13:59:24.307234    1\n",
       "2023-12-07 14:41:35.675932    1\n",
       "Name: count, Length: 3737, dtype: int64"
      ]
     },
     "metadata": {},
     "output_type": "display_data"
    },
    {
     "name": "stdout",
     "output_type": "stream",
     "text": [
      "input_url\n"
     ]
    },
    {
     "data": {
      "text/plain": [
       "input_url\n",
       "https://www.seloger.com/list.htm?projects=1&types=1&places=[{%22divisions%22:[2238]}]&qsVersion=1.0    4769\n",
       "Name: count, dtype: int64"
      ]
     },
     "metadata": {},
     "output_type": "display_data"
    },
    {
     "name": "stdout",
     "output_type": "stream",
     "text": [
      "input_max_pages\n"
     ]
    },
    {
     "data": {
      "text/plain": [
       "input_max_pages\n",
       "200000    2064\n",
       "10000     1049\n",
       "9950       990\n",
       "403        666\n",
       "Name: count, dtype: int64"
      ]
     },
     "metadata": {},
     "output_type": "display_data"
    },
    {
     "name": "stdout",
     "output_type": "stream",
     "text": [
      "input_annonce_details\n"
     ]
    },
    {
     "data": {
      "text/plain": [
       "input_annonce_details\n",
       "f    4769\n",
       "Name: count, dtype: int64"
      ]
     },
     "metadata": {},
     "output_type": "display_data"
    },
    {
     "name": "stdout",
     "output_type": "stream",
     "text": [
      "is_furnished\n"
     ]
    },
    {
     "data": {
      "text/plain": [
       "is_furnished\n",
       "f    1250\n",
       "t     814\n",
       "Name: count, dtype: int64"
      ]
     },
     "metadata": {},
     "output_type": "display_data"
    }
   ],
   "source": [
    "a = data.columns\n",
    "for i in a:\n",
    "    print(i)\n",
    "    display(data[i].value_counts())"
   ]
  },
  {
   "cell_type": "markdown",
   "id": "4f7e918d",
   "metadata": {},
   "source": [
    "## Data cleaning"
   ]
  },
  {
   "cell_type": "markdown",
   "id": "1961a848",
   "metadata": {},
   "source": [
    "#### Les colonnes non selectionner:\n",
    "'object': result pour eux tous; 'result_position'; 'annonce_id'; 'agency_id'; 'agency_page': url; 'agency_contact_name'; 'agency_img_url':url; 'agency_phone_number'; 'agency_has_email'; 'agency_link': url; 'contact_email' ; 'contact_is_private_seller'; 'description' : difficile à encoder; 'estate_type_id': égale à 1 partout; 'features': difficile à encoder; 'insee_code'; 'is_redirected' : ????; 'is_expired': false pour eux tous c'est à ils sont tous disponoble;  'monthly_price': 2669 prix mensuel nul; 'postal_code'  ; 'main_picture': des url  ; 'photos': ce sont des url; 'publication_id'; 'short_description' : sera difficile à encoder; 'input_annonce_details' : car elle est false pour tous les biens  ; 'input_url' : c'est le même pour tout les biens; 'collected_at' : date à laquelle nous avons collecter les données c'est le 2023-12-07  ; 'virtual_visit_url'; 'video_url'; 'url'; 'transaction_type' : toute les type de transaction sont égale à 1, picture_count', 'dpe','gse', 'highlighting_level'(2,3), 'transaction_type' 'nature'(1,3), 'business_unit'(1,5), 'estate_type_id':1, 'object':result, \"pricing_price_note\"(cc, +ch), \"input_max_pages\" \n",
    "\n",
    "#### prise: ici nous avons prix des colonnes que nous pensons qu'on peut utiliser pour une recommendation\n",
    "\"id\", \"tags\", \"title\", \"rooms\", \"ref\", \"pricing_price_note\", \"price_decrease_percent\", \"price_per_meter\", \"price\", \"position\", \"nature\", \"is_exclusive\", \"highlighting_level\", \"gas_emissions\", \"ges\", \"electricity_consumption\", \"estate_type\", \"dpe\", \"district\", \"coownership_is_syndic_procedure\", \"coownership_number_of_lots\", \"coownership_annual_charges\", \"business_unit\", \"bedrooms_count\", \"area\", \"address\", 'latitude', 'longitude'"
   ]
  },
  {
   "cell_type": "code",
   "execution_count": 115,
   "id": "d246c01a",
   "metadata": {},
   "outputs": [
    {
     "name": "stdout",
     "output_type": "stream",
     "text": [
      "Nombre de colonne retenue après une vue globale  28\n",
      "<class 'pandas.core.frame.DataFrame'>\n",
      "RangeIndex: 4769 entries, 0 to 4768\n",
      "Data columns (total 28 columns):\n",
      " #   Column                           Non-Null Count  Dtype  \n",
      "---  ------                           --------------  -----  \n",
      " 0   id                               4769 non-null   int64  \n",
      " 1   tags                             4769 non-null   object \n",
      " 2   title                            3474 non-null   object \n",
      " 3   rooms                            4769 non-null   int64  \n",
      " 4   ref                              3471 non-null   object \n",
      " 5   pricing_price_note               4769 non-null   object \n",
      " 6   price_decrease_percent           3446 non-null   float64\n",
      " 7   price_per_meter                  4751 non-null   float64\n",
      " 8   price                            4769 non-null   int64  \n",
      " 9   position                         235 non-null    float64\n",
      " 10  nature                           4769 non-null   int64  \n",
      " 11  is_exclusive                     4769 non-null   object \n",
      " 12  highlighting_level               4769 non-null   int64  \n",
      " 13  gas_emissions                    2472 non-null   float64\n",
      " 14  ges                              2512 non-null   object \n",
      " 15  electricity_consumption          2445 non-null   float64\n",
      " 16  estate_type                      4769 non-null   object \n",
      " 17  dpe                              2511 non-null   object \n",
      " 18  district                         4020 non-null   object \n",
      " 19  coownership_is_syndic_procedure  3502 non-null   object \n",
      " 20  coownership_number_of_lots       423 non-null    float64\n",
      " 21  coownership_annual_charges       749 non-null    float64\n",
      " 22  business_unit                    4769 non-null   int64  \n",
      " 23  bedrooms_count                   4707 non-null   float64\n",
      " 24  area                             4751 non-null   float64\n",
      " 25  address                          4769 non-null   object \n",
      " 26  latitude                         1724 non-null   float64\n",
      " 27  longitude                        1724 non-null   float64\n",
      "dtypes: float64(11), int64(6), object(11)\n",
      "memory usage: 1.0+ MB\n"
     ]
    }
   ],
   "source": [
    "new_columns = [\"id\", \"tags\", \"title\", \"rooms\", \"ref\", \"pricing_price_note\", \"price_decrease_percent\", \"price_per_meter\",\n",
    "               \"price\", \"position\", \"nature\", \"is_exclusive\", \"highlighting_level\", \"gas_emissions\", \"ges\",\n",
    "               \"electricity_consumption\", \"estate_type\", \"dpe\", \"district\", \"coownership_is_syndic_procedure\",\n",
    "               \"coownership_number_of_lots\", \"coownership_annual_charges\", \"business_unit\", \"bedrooms_count\", \"area\", \n",
    "               \"address\", \"latitude\", \"longitude\"]\n",
    "print(\"Nombre de colonne retenue après une vue globale \", len(new_columns))\n",
    "df = data[new_columns]\n",
    "df.info()"
   ]
  },
  {
   "cell_type": "code",
   "execution_count": 116,
   "id": "df4972d2",
   "metadata": {},
   "outputs": [
    {
     "name": "stdout",
     "output_type": "stream",
     "text": [
      "<class 'pandas.core.frame.DataFrame'>\n",
      "RangeIndex: 4769 entries, 0 to 4768\n",
      "Data columns (total 23 columns):\n",
      " #   Column                           Non-Null Count  Dtype  \n",
      "---  ------                           --------------  -----  \n",
      " 0   id                               4769 non-null   int64  \n",
      " 1   tags                             4769 non-null   object \n",
      " 2   title                            3474 non-null   object \n",
      " 3   rooms                            4769 non-null   int64  \n",
      " 4   ref                              3471 non-null   object \n",
      " 5   pricing_price_note               4769 non-null   object \n",
      " 6   price_decrease_percent           3446 non-null   float64\n",
      " 7   price_per_meter                  4751 non-null   float64\n",
      " 8   price                            4769 non-null   int64  \n",
      " 9   nature                           4769 non-null   int64  \n",
      " 10  is_exclusive                     4769 non-null   object \n",
      " 11  highlighting_level               4769 non-null   int64  \n",
      " 12  gas_emissions                    2472 non-null   float64\n",
      " 13  ges                              2512 non-null   object \n",
      " 14  electricity_consumption          2445 non-null   float64\n",
      " 15  estate_type                      4769 non-null   object \n",
      " 16  dpe                              2511 non-null   object \n",
      " 17  district                         4020 non-null   object \n",
      " 18  coownership_is_syndic_procedure  3502 non-null   object \n",
      " 19  business_unit                    4769 non-null   int64  \n",
      " 20  bedrooms_count                   4707 non-null   float64\n",
      " 21  area                             4751 non-null   float64\n",
      " 22  address                          4769 non-null   object \n",
      "dtypes: float64(6), int64(6), object(11)\n",
      "memory usage: 857.1+ KB\n"
     ]
    }
   ],
   "source": [
    "# Suppresion des colonnes qui ont une grande quantité de valeurs manquantes\n",
    "# Nous allons retenir des colonnes qui ont au moins 2000 valeurs disponibles\n",
    "df_filtre = df.dropna(axis=1, thresh=2000)\n",
    "df_filtre.info()"
   ]
  },
  {
   "cell_type": "markdown",
   "id": "5094dd39",
   "metadata": {},
   "source": [
    "#### Les colonnes $longitude$ et $latitude$ sont importantes pour notre études mais contiennent trop de valeurs manquantes. Nous les générer nous même à partir des address que nous disposons dans la donnée."
   ]
  },
  {
   "cell_type": "code",
   "execution_count": 117,
   "id": "9ab3405e",
   "metadata": {},
   "outputs": [],
   "source": [
    "# Fonction coordonner pour nous donner les coordonnées (longitude et lagitude) des address de notre dataset\n",
    "\n",
    "from geopy.geocoders import Nominatim\n",
    "# Initialiser le géocodeur Nominatim\n",
    "geocodeur = Nominatim(user_agent=\"localisation_villes_france\")\n",
    "def coordonner(villes):\n",
    "    # Obtenir les coordonnées pour chaque ville\n",
    "    locations = {}\n",
    "    for ville in villes:\n",
    "        try :\n",
    "            location = geocodeur.geocode(ville + \", France\")\n",
    "            if location:\n",
    "                locations[ville] = (location.latitude, location.longitude)\n",
    "        except:\n",
    "            print(ville)\n",
    "    return locations"
   ]
  },
  {
   "cell_type": "code",
   "execution_count": 118,
   "id": "25fc7329",
   "metadata": {},
   "outputs": [],
   "source": [
    "# Récupération des address de notre dataset\n",
    "address = data['address'].unique()\n",
    "\n",
    "# Récupération des longitude et latitude des address de notre dataset\n",
    "address_coordonner = coordonner(address)"
   ]
  },
  {
   "cell_type": "code",
   "execution_count": 119,
   "id": "a1ebbd56",
   "metadata": {},
   "outputs": [
    {
     "data": {
      "text/plain": [
       "array(['Paris 3ème', 'Paris 7ème', 'Paris 16ème', 'Boulogne-Billancourt',\n",
       "       'Neuilly-sur-Seine', 'Paris 19ème', 'Villejuif', 'Paris 17ème',\n",
       "       'Paris 8ème', 'Rueil-Malmaison', 'Chaville',\n",
       "       'Saint-Germain-en-Laye', 'Suresnes', 'Paris 12ème', 'Versailles',\n",
       "       'Évry', 'Clichy', 'Saint-Ouen', 'Sceaux', 'Chambourcy',\n",
       "       'Champigny-sur-Marne', 'Paris 20ème', 'Carrières-sous-Poissy',\n",
       "       'Meudon', 'Mareil-Marly', 'Puteaux', 'Châtillon', 'Louveciennes',\n",
       "       'Bagneux', 'Courbevoie', 'Asnières-sur-Seine', 'Orsay',\n",
       "       'Guyancourt', 'Massy', 'Morsang-sur-Orge', 'Saint-Cloud',\n",
       "       'Paris 15ème', 'Le Pecq', 'Sartrouville', 'Levallois-Perret',\n",
       "       'Chilly-Mazarin', \"L'Haÿ-les-Roses\", 'Châtenay-Malabry',\n",
       "       'Gif-sur-Yvette', 'Sevran', 'La Celle-Saint-Cloud', 'Linas',\n",
       "       'Les Clayes-sous-Bois', 'Le Plessis-Robinson', 'Créteil',\n",
       "       'Champs-sur-Marne', 'Maule', 'Colombes', 'Saint-Maur-des-Fossés',\n",
       "       'Paris 5ème', 'Chevilly-Larue', 'Brie-Comte-Robert',\n",
       "       'Vigneux-sur-Seine', 'Athis-Mons', 'Sannois', 'Thiais', 'Sèvres',\n",
       "       'Bougival', 'Paris 1er', 'Vanves', 'Bois-Colombes', 'Paris 2ème',\n",
       "       'Garches', 'Nanterre', 'Paris 13ème', 'Villepinte',\n",
       "       'Nogent-sur-Marne', 'Paris 14ème', 'Orgeval', 'Houdan',\n",
       "       \"Ville-d'Avray\", 'Saint-Denis', 'Paris 4ème', 'Viry-Châtillon',\n",
       "       'Ivry-sur-Seine', 'Pontoise', 'Villeparisis', 'Argenteuil',\n",
       "       'Montrouge', 'Les Pavillons-sous-Bois', 'Maisons-Alfort',\n",
       "       'Chennevières-sur-Marne', 'Meudon la Foret', 'Marly-le-Roi',\n",
       "       'Malakoff', 'Viarmes', 'Maisons-Laffitte', 'Melun',\n",
       "       'Ballancourt-sur-Essonne', 'Paris 6ème', 'Bouafle', 'Cachan',\n",
       "       'Combs-la-Ville', 'Saint-Mandé', 'Nangis', 'Nézel',\n",
       "       'Dammarie-les-Lys', 'Ormesson-sur-Marne', 'Triel-sur-Seine',\n",
       "       'Saint-Maurice', 'Meaux', 'Élancourt', 'Issy-les-Moulineaux',\n",
       "       'Jablines', 'Milly-la-Forêt', 'Paris 11ème', 'Paris 18ème',\n",
       "       'Gentilly', 'Le Kremlin-Bicêtre', 'Arcueil', 'Paris 10ème',\n",
       "       'Noisy-le-Sec', 'Vélizy-Villacoublay', 'Bussy-Saint-Georges',\n",
       "       'Le Chesnay', 'Paris 9ème', 'Livry-Gargan', 'Poissy',\n",
       "       'Enghien-les-Bains', 'Antony', 'Verneuil-sur-Seine',\n",
       "       'Pierrefitte-sur-Seine', 'Villetaneuse', 'Le Vésinet',\n",
       "       'Le Blanc-Mesnil', 'Ermont', 'Aulnay-sous-Bois', 'Orly', 'Cergy',\n",
       "       \"Saint-Cyr-l'École\", \"L'Isle-Adam\", 'Montlhéry', 'Palaiseau',\n",
       "       'Coupvray', 'Viroflay', 'Eaubonne', 'Sainte-Geneviève-des-Bois',\n",
       "       'Arpajon', 'Choisy-le-Roi', 'Le Perreux-sur-Marne',\n",
       "       'Corbeil-Essonnes', 'Neuilly-Plaisance', 'Vincennes', 'Bezons',\n",
       "       'Montreuil', 'Montigny-le-Bretonneux', 'Chessy', 'Serris',\n",
       "       \"Saint-Ouen-l'Aumône\", 'Fontainebleau', 'Mitry-Mory',\n",
       "       \"Montfort-l'Amaury\", 'Avon', 'Gretz-Armainvilliers', 'Limay',\n",
       "       'Andrésy', 'Longjumeau', 'Moissy-Cramayel', 'Le Plessis-Pâté',\n",
       "       'Mantes-la-Ville', 'Beaumont-sur-Oise', 'Meulan-en-Yvelines',\n",
       "       'Saint-Jean-de-Beauregard', 'Rambouillet', 'Le Mesnil-le-Roi',\n",
       "       'Marnes-la-Coquette', 'Plaisir', 'Morangis', 'Marines',\n",
       "       'Rosny-sur-Seine', 'Provins', 'Cernay-la-Ville', 'Franconville',\n",
       "       'Saint-Forget', 'La Varenne Saint Hilaire', 'Guiry-en-Vexin',\n",
       "       'Rosny-sous-Bois', 'Savigny-sur-Orge', 'Aubervilliers',\n",
       "       'Alfortville', 'Bobigny', 'Jouars-Pontchartrain',\n",
       "       'Saulx-les-Chartreux', 'Romainville', 'Montigny-lès-Cormeilles',\n",
       "       'Montesson', 'Cerny', 'Marcoussis', 'Fontenay-le-Fleury',\n",
       "       'Saint-Gratien', 'Belloy-en-France', 'Épinay-sur-Seine', 'Clamart',\n",
       "       'Montmorency', 'Cormeilles-en-Parisis', 'Pringy',\n",
       "       'Bures-sur-Yvette', 'Wissous', 'La Ville-du-Bois',\n",
       "       'Neuilly-sur-Marne', 'Longpont-sur-Orge', 'Mantes-la-Jolie',\n",
       "       'Joinville-le-Pont', 'Carrières-sur-Seine', 'Gagny',\n",
       "       'Paray-Vieille-Poste', 'Égly', 'Conflans-Sainte-Honorine',\n",
       "       'Montgeron', 'Méréville', 'Deuil-la-Barre', 'Fleury-Mérogis',\n",
       "       'Le Plessis-Bouchard', 'Le Châtelet-en-Brie', 'Saint-Mammès',\n",
       "       'Fontenay-aux-Roses', 'Le Port-Marly', 'Le Raincy',\n",
       "       'Pontault-Combault', 'Vernouillet', 'Vaucresson', 'Chatou',\n",
       "       'Houilles', 'Ris-Orangis', 'Juvisy-sur-Orge',\n",
       "       'Saint-Fargeau-Ponthierry', 'Fontenay-sous-Bois', 'Éragny',\n",
       "       'Chalifert', 'Bondoufle', 'Boussy-Saint-Antoine', 'Courcouronnes',\n",
       "       'Jouy-le-Moutier', 'Guérard', 'Crécy-la-Chapelle',\n",
       "       'Tremblay-en-France', 'Menucourt'], dtype=object)"
      ]
     },
     "execution_count": 119,
     "metadata": {},
     "output_type": "execute_result"
    }
   ],
   "source": [
    "data['address'].unique()"
   ]
  },
  {
   "cell_type": "code",
   "execution_count": 120,
   "id": "c1596b3f",
   "metadata": {},
   "outputs": [
    {
     "data": {
      "text/plain": [
       "{'Paris 3ème': (48.86387315, 2.361785853857205),\n",
       " 'Paris 7ème': (48.857274, 2.318348),\n",
       " 'Paris 16ème': (48.856779, 2.2724945),\n",
       " 'Boulogne-Billancourt': (48.8356649, 2.240206),\n",
       " 'Neuilly-sur-Seine': (48.884683, 2.2695658),\n",
       " 'Paris 19ème': (48.88571455, 2.3969715730314958),\n",
       " 'Villejuif': (48.7921098, 2.3633048),\n",
       " 'Paris 17ème': (48.8791008, 2.28743),\n",
       " 'Paris 8ème': (48.8670978, 2.3131224),\n",
       " 'Rueil-Malmaison': (48.87778, 2.1802832),\n",
       " 'Chaville': (48.8086915, 2.1883487),\n",
       " 'Saint-Germain-en-Laye': (48.8990413, 2.0942792),\n",
       " 'Suresnes': (48.8709053, 2.2255727),\n",
       " 'Paris 12ème': (48.8420454, 2.3962685),\n",
       " 'Versailles': (48.8035403, 2.1266886),\n",
       " 'Évry': (48.26406, 3.25604),\n",
       " 'Clichy': (48.9026, 2.30551),\n",
       " 'Saint-Ouen': (50.03683, 2.1223737),\n",
       " 'Sceaux': (47.514728500000004, 4.021844858050334),\n",
       " 'Chambourcy': (48.9058999, 2.0396454),\n",
       " 'Champigny-sur-Marne': (48.8137759, 2.5107384),\n",
       " 'Paris 20ème': (48.865668, 2.3984549),\n",
       " 'Carrières-sous-Poissy': (48.9437694, 2.0341747),\n",
       " 'Meudon': (48.8126688, 2.2385432),\n",
       " 'Mareil-Marly': (48.8823232, 2.0764516),\n",
       " 'Puteaux': (48.8841522, 2.2368863),\n",
       " 'Châtillon': (46.6591772, 5.7302769),\n",
       " 'Louveciennes': (48.8616969, 2.1130641),\n",
       " 'Bagneux': (49.458056, 3.279444),\n",
       " 'Courbevoie': (48.8953328, 2.2561602),\n",
       " 'Asnières-sur-Seine': (48.9105948, 2.2890454),\n",
       " 'Orsay': (48.699184, 2.187457),\n",
       " 'Guyancourt': (48.7709414, 2.0706084),\n",
       " 'Massy': (49.6902106, 1.399492),\n",
       " 'Morsang-sur-Orge': (48.6641415, 2.3527728),\n",
       " 'Saint-Cloud': (48.8437412, 2.219344),\n",
       " 'Paris 15ème': (48.8359147, 2.2931262),\n",
       " 'Le Pecq': (48.8972505, 2.1066273),\n",
       " 'Sartrouville': (48.9409016, 2.1585037),\n",
       " 'Levallois-Perret': (48.892956, 2.2881683),\n",
       " 'Chilly-Mazarin': (48.7026161, 2.3123582),\n",
       " \"L'Haÿ-les-Roses\": (48.7790514, 2.3373021),\n",
       " 'Châtenay-Malabry': (48.7670404, 2.2775316),\n",
       " 'Gif-sur-Yvette': (48.7018823, 2.134529),\n",
       " 'Sevran': (48.937634, 2.5298164),\n",
       " 'La Celle-Saint-Cloud': (48.8478753, 2.136145),\n",
       " 'Linas': (48.6306286, 2.2701898),\n",
       " 'Les Clayes-sous-Bois': (48.8214478, 1.9871825),\n",
       " 'Le Plessis-Robinson': (48.7811049, 2.2619632),\n",
       " 'Créteil': (48.7771486, 2.4530731),\n",
       " 'Champs-sur-Marne': (48.8526892, 2.6027219),\n",
       " 'Maule': (43.2233373, -0.8885873),\n",
       " 'Colombes': (48.922788, 2.2543577),\n",
       " 'Saint-Maur-des-Fossés': (48.8033057, 2.4853015),\n",
       " 'Paris 5ème': (48.8385825, 2.3499612),\n",
       " 'Chevilly-Larue': (48.7714153, 2.3469255),\n",
       " 'Brie-Comte-Robert': (48.6904522, 2.6166737),\n",
       " 'Vigneux-sur-Seine': (48.6998552, 2.4172117),\n",
       " 'Athis-Mons': (48.7079028, 2.3890941),\n",
       " 'Sannois': (48.9717267, 2.2568296),\n",
       " 'Thiais': (48.7643664, 2.391024),\n",
       " 'Sèvres': (48.8247407, 2.2127083),\n",
       " 'Bougival': (48.8642975, 2.1377696),\n",
       " 'Paris 1er': (48.8646144, 2.334396),\n",
       " 'Vanves': (48.8212037, 2.289259),\n",
       " 'Bois-Colombes': (48.9148269, 2.2674892),\n",
       " 'Garches': (48.8437486, 2.1853699),\n",
       " 'Nanterre': (48.8924273, 2.2071267),\n",
       " 'Paris 13ème': (48.8255921, 2.3503376),\n",
       " 'Villepinte': (43.2814917, 2.0855714),\n",
       " 'Nogent-sur-Marne': (48.8387639, 2.4916592),\n",
       " 'Paris 14ème': (48.8339171, 2.3288283),\n",
       " 'Orgeval': (49.508, 3.70325),\n",
       " 'Houdan': (48.7912001, 1.6019247),\n",
       " \"Ville-d'Avray\": (48.8279362, 2.1894241),\n",
       " 'Saint-Denis': (48.935773, 2.3580232),\n",
       " 'Paris 4ème': (48.8510673, 2.3670936),\n",
       " 'Viry-Châtillon': (48.6708729, 2.3750351),\n",
       " 'Ivry-sur-Seine': (48.8122302, 2.3872525),\n",
       " 'Pontoise': (49.0508845, 2.1008067),\n",
       " 'Villeparisis': (48.939344, 2.6176193),\n",
       " 'Argenteuil': (48.9479069, 2.2481797),\n",
       " 'Montrouge': (48.8188544, 2.3194375),\n",
       " 'Les Pavillons-sous-Bois': (48.9082988, 2.5034999),\n",
       " 'Maisons-Alfort': (48.8012045, 2.4309703),\n",
       " 'Chennevières-sur-Marne': (48.7965001, 2.530442),\n",
       " 'Meudon la Foret': (48.7876528, 2.2281028),\n",
       " 'Marly-le-Roi': (48.8681762, 2.0965935),\n",
       " 'Malakoff': (48.8211559, 2.3019814),\n",
       " 'Viarmes': (49.125863, 2.3693685),\n",
       " 'Maisons-Laffitte': (48.9461437, 2.1450951),\n",
       " 'Melun': (48.539927, 2.6608169),\n",
       " 'Ballancourt-sur-Essonne': (48.5262129, 2.3858373),\n",
       " 'Paris 6ème': (48.8467108, 2.3284707),\n",
       " 'Bouafle': (48.9644944, 1.9001777),\n",
       " 'Cachan': (48.7945413, 2.3340758),\n",
       " 'Combs-la-Ville': (48.6646994, 2.564877),\n",
       " 'Saint-Mandé': (48.8432434, 2.4159739),\n",
       " 'Nangis': (48.5549685, 3.0134672),\n",
       " 'Nézel': (48.9450665, 1.8360467),\n",
       " 'Dammarie-les-Lys': (48.5150876, 2.6347018),\n",
       " 'Ormesson-sur-Marne': (48.785641, 2.5483998),\n",
       " 'Triel-sur-Seine': (48.980925, 2.0030818),\n",
       " 'Saint-Maurice': (48.3275249, 7.3363439),\n",
       " 'Meaux': (48.9582708, 2.8773541),\n",
       " 'Élancourt': (48.7681182, 1.949352),\n",
       " 'Issy-les-Moulineaux': (48.8250508, 2.273457),\n",
       " 'Jablines': (48.9175496, 2.7648157),\n",
       " 'Milly-la-Forêt': (48.4028842, 2.4702697),\n",
       " 'Paris 11ème': (48.8600221, 2.3785607),\n",
       " 'Paris 18ème': (48.8921294, 2.3489558),\n",
       " 'Gentilly': (48.8153656, 2.3483549),\n",
       " 'Le Kremlin-Bicêtre': (48.8125893, 2.3570028),\n",
       " 'Arcueil': (48.8064996, 2.3366502),\n",
       " 'Paris 10ème': (48.8820678, 2.3670778),\n",
       " 'Noisy-le-Sec': (48.8897751, 2.4516055),\n",
       " 'Vélizy-Villacoublay': (48.7809496, 2.1900052),\n",
       " 'Bussy-Saint-Georges': (48.8389953, 2.7171086),\n",
       " 'Le Chesnay': (48.8264842, 2.1257808),\n",
       " 'Paris 9ème': (48.875796, 2.327775),\n",
       " 'Livry-Gargan': (48.917335, 2.5298854),\n",
       " 'Poissy': (48.927439, 2.0428293),\n",
       " 'Enghien-les-Bains': (48.9699732, 2.3068482),\n",
       " 'Antony': (48.753554, 2.2959423),\n",
       " 'Verneuil-sur-Seine': (48.9792052, 1.9756367),\n",
       " 'Pierrefitte-sur-Seine': (48.9637589, 2.3601022),\n",
       " 'Villetaneuse': (48.9611722, 2.3439698),\n",
       " 'Le Vésinet': (48.894254, 2.1347291),\n",
       " 'Le Blanc-Mesnil': (48.9385489, 2.4631476),\n",
       " 'Ermont': (48.9917676, 2.2585679),\n",
       " 'Aulnay-sous-Bois': (48.934231, 2.499789),\n",
       " 'Orly': (48.7431683, 2.402391),\n",
       " 'Cergy': (49.0527528, 2.0388736),\n",
       " \"Saint-Cyr-l'École\": (48.799708, 2.0672138),\n",
       " \"L'Isle-Adam\": (49.1125294, 2.2186324),\n",
       " 'Montlhéry': (48.6396904, 2.2710952),\n",
       " 'Palaiseau': (48.7144587, 2.2453842),\n",
       " 'Coupvray': (48.8918983, 2.7948137),\n",
       " 'Viroflay': (48.7995951, 2.1730571),\n",
       " 'Eaubonne': (48.9906696, 2.2794326),\n",
       " 'Sainte-Geneviève-des-Bois': (48.6407872, 2.3259129),\n",
       " 'Arpajon': (44.9034428, 2.4570176),\n",
       " 'Choisy-le-Roi': (48.7630238, 2.4093664),\n",
       " 'Le Perreux-sur-Marne': (48.840627, 2.5077111),\n",
       " 'Corbeil-Essonnes': (48.6137734, 2.4818087),\n",
       " 'Neuilly-Plaisance': (48.8608712, 2.5060144),\n",
       " 'Vincennes': (48.8474508, 2.4396714),\n",
       " 'Bezons': (48.9250016, 2.2105491),\n",
       " 'Montreuil': (50.4638918, 1.7631125),\n",
       " 'Montigny-le-Bretonneux': (48.7698937, 2.0381228),\n",
       " 'Chessy': (48.8798792, 2.7658363),\n",
       " 'Serris': (48.8567, 2.7855615),\n",
       " \"Saint-Ouen-l'Aumône\": (49.0992941, 2.1513278430408262),\n",
       " 'Fontainebleau': (48.4049375, 2.7015872),\n",
       " 'Mitry-Mory': (48.9839674, 2.6183971),\n",
       " \"Montfort-l'Amaury\": (48.779142, 1.8070765),\n",
       " 'Avon': (48.4048867, 2.7207225),\n",
       " 'Gretz-Armainvilliers': (48.7410407, 2.7359603),\n",
       " 'Limay': (48.9921015, 1.7353686),\n",
       " 'Andrésy': (48.9821445, 2.0610573),\n",
       " 'Longjumeau': (48.6943793, 2.2953297),\n",
       " 'Moissy-Cramayel': (48.6272298, 2.5937073),\n",
       " 'Le Plessis-Pâté': (48.6116007, 2.3256213),\n",
       " 'Mantes-la-Ville': (48.9748938, 1.7109449),\n",
       " 'Beaumont-sur-Oise': (49.1419322, 2.2849324),\n",
       " 'Meulan-en-Yvelines': (49.0049712, 1.9100835),\n",
       " 'Saint-Jean-de-Beauregard': (48.6633406, 2.1694739),\n",
       " 'Rambouillet': (48.6452851, 1.819207),\n",
       " 'Le Mesnil-le-Roi': (48.9396822, 2.128842),\n",
       " 'Marnes-la-Coquette': (48.8293583, 2.1756093),\n",
       " 'Plaisir': (48.817399, 1.9476363),\n",
       " 'Morangis': (48.9778812, 3.9198107),\n",
       " 'Marines': (49.1451519, 1.9831777),\n",
       " 'Rosny-sur-Seine': (49.001733, 1.6280317),\n",
       " 'Provins': (48.5602959, 3.2988089),\n",
       " 'Cernay-la-Ville': (48.6731134, 1.974341),\n",
       " 'Franconville': (48.5000906, 6.4527267),\n",
       " 'Saint-Forget': (48.7094457, 1.99396),\n",
       " 'La Varenne Saint Hilaire': (48.792877, 2.5130174),\n",
       " 'Guiry-en-Vexin': (49.1099698, 1.8504387),\n",
       " 'Rosny-sous-Bois': (48.8716626, 2.4875193),\n",
       " 'Savigny-sur-Orge': (48.6794572, 2.3458417),\n",
       " 'Aubervilliers': (48.9146078, 2.3821895),\n",
       " 'Alfortville': (48.8051624, 2.4197113),\n",
       " 'Bobigny': (48.906387, 2.4452231),\n",
       " 'Jouars-Pontchartrain': (48.8032681, 1.9000212),\n",
       " 'Saulx-les-Chartreux': (48.6919585, 2.2664925),\n",
       " 'Romainville': (48.8852958, 2.4358326),\n",
       " 'Montigny-lès-Cormeilles': (48.9959113, 2.1989225),\n",
       " 'Montesson': (48.9076421, 2.1492681),\n",
       " 'Cerny': (48.4762984, 2.3296911),\n",
       " 'Marcoussis': (48.6427131, 2.230811),\n",
       " 'Fontenay-le-Fleury': (48.8106578, 2.0461549),\n",
       " 'Saint-Gratien': (49.9656998, 2.4081341),\n",
       " 'Belloy-en-France': (49.0892802, 2.367884),\n",
       " 'Épinay-sur-Seine': (48.9525181, 2.3145039),\n",
       " 'Clamart': (48.8003835, 2.2630238),\n",
       " 'Montmorency': (48.9891693, 2.3197111),\n",
       " 'Cormeilles-en-Parisis': (48.9759637, 2.1998877),\n",
       " 'Pringy': (48.7798117, 4.5154884),\n",
       " 'Bures-sur-Yvette': (48.6972179, 2.1632719),\n",
       " 'Wissous': (48.7316381, 2.3268669),\n",
       " 'La Ville-du-Bois': (48.6610752, 2.2687891),\n",
       " 'Neuilly-sur-Marne': (48.8565557, 2.5290045),\n",
       " 'Longpont-sur-Orge': (48.64262, 2.2919546),\n",
       " 'Mantes-la-Jolie': (48.9891971, 1.7140683),\n",
       " 'Joinville-le-Pont': (48.8183717, 2.4668077),\n",
       " 'Carrières-sur-Seine': (48.9134112, 2.1779083),\n",
       " 'Gagny': (48.8853708, 2.5361783),\n",
       " 'Paray-Vieille-Poste': (48.7126093, 2.3637838),\n",
       " 'Égly': (48.5774044, 2.2216686),\n",
       " 'Conflans-Sainte-Honorine': (48.9938791, 2.0949768),\n",
       " 'Montgeron': (48.7038873, 2.4605107),\n",
       " 'Méréville': (48.5922, 6.1526),\n",
       " 'Deuil-la-Barre': (48.9756423, 2.3275141),\n",
       " 'Fleury-Mérogis': (48.629965, 2.3609313),\n",
       " 'Le Plessis-Bouchard': (49.0016863, 2.2330815),\n",
       " 'Le Châtelet-en-Brie': (48.5044282, 2.792873),\n",
       " 'Saint-Mammès': (48.3887016, 2.807564),\n",
       " 'Fontenay-aux-Roses': (48.7911052, 2.2870373),\n",
       " 'Le Port-Marly': (48.8809876, 2.109145),\n",
       " 'Le Raincy': (48.8986666, 2.5155626),\n",
       " 'Pontault-Combault': (48.8009132, 2.6068064),\n",
       " 'Vernouillet': (48.7166545, 1.3650922),\n",
       " 'Vaucresson': (48.8392676, 2.1575981),\n",
       " 'Chatou': (48.8897044, 2.1573695),\n",
       " 'Houilles': (48.9229416, 2.1868998),\n",
       " 'Ris-Orangis': (48.6538754, 2.4151151),\n",
       " 'Juvisy-sur-Orge': (48.6904063, 2.373809),\n",
       " 'Saint-Fargeau-Ponthierry': (48.5361215, 2.5273471),\n",
       " 'Fontenay-sous-Bois': (48.8490721, 2.4749347),\n",
       " 'Éragny': (49.0192178, 2.0910817),\n",
       " 'Chalifert': (48.8896421, 2.7725465),\n",
       " 'Bondoufle': (48.6137157, 2.3805119),\n",
       " 'Boussy-Saint-Antoine': (48.6887478, 2.5299905),\n",
       " 'Courcouronnes': (48.622557, 2.411893948759139),\n",
       " 'Jouy-le-Moutier': (49.0116, 2.03194),\n",
       " 'Guérard': (48.8239829, 2.9580234),\n",
       " 'Crécy-la-Chapelle': (48.8578447, 2.9086092),\n",
       " 'Tremblay-en-France': (48.9802035, 2.5589558),\n",
       " 'Menucourt': (49.027615, 1.9815885)}"
      ]
     },
     "execution_count": 120,
     "metadata": {},
     "output_type": "execute_result"
    }
   ],
   "source": [
    "address_coordonner"
   ]
  },
  {
   "cell_type": "code",
   "execution_count": 121,
   "id": "d202383c",
   "metadata": {},
   "outputs": [
    {
     "name": "stdout",
     "output_type": "stream",
     "text": [
      "Nombre total d'address disponible 242 \n",
      " Nombre de localisation obtenu 241\n"
     ]
    }
   ],
   "source": [
    "print(\"Nombre total d'address disponible\", len(data['address'].unique()), \"\\n Nombre de localisation obtenu\", len(address_coordonner))"
   ]
  },
  {
   "cell_type": "code",
   "execution_count": 122,
   "id": "4961271a",
   "metadata": {},
   "outputs": [
    {
     "name": "stdout",
     "output_type": "stream",
     "text": [
      "Adress des localisation obtenu dict_keys(['Paris 3ème', 'Paris 7ème', 'Paris 16ème', 'Boulogne-Billancourt', 'Neuilly-sur-Seine', 'Paris 19ème', 'Villejuif', 'Paris 17ème', 'Paris 8ème', 'Rueil-Malmaison', 'Chaville', 'Saint-Germain-en-Laye', 'Suresnes', 'Paris 12ème', 'Versailles', 'Évry', 'Clichy', 'Saint-Ouen', 'Sceaux', 'Chambourcy', 'Champigny-sur-Marne', 'Paris 20ème', 'Carrières-sous-Poissy', 'Meudon', 'Mareil-Marly', 'Puteaux', 'Châtillon', 'Louveciennes', 'Bagneux', 'Courbevoie', 'Asnières-sur-Seine', 'Orsay', 'Guyancourt', 'Massy', 'Morsang-sur-Orge', 'Saint-Cloud', 'Paris 15ème', 'Le Pecq', 'Sartrouville', 'Levallois-Perret', 'Chilly-Mazarin', \"L'Haÿ-les-Roses\", 'Châtenay-Malabry', 'Gif-sur-Yvette', 'Sevran', 'La Celle-Saint-Cloud', 'Linas', 'Les Clayes-sous-Bois', 'Le Plessis-Robinson', 'Créteil', 'Champs-sur-Marne', 'Maule', 'Colombes', 'Saint-Maur-des-Fossés', 'Paris 5ème', 'Chevilly-Larue', 'Brie-Comte-Robert', 'Vigneux-sur-Seine', 'Athis-Mons', 'Sannois', 'Thiais', 'Sèvres', 'Bougival', 'Paris 1er', 'Vanves', 'Bois-Colombes', 'Garches', 'Nanterre', 'Paris 13ème', 'Villepinte', 'Nogent-sur-Marne', 'Paris 14ème', 'Orgeval', 'Houdan', \"Ville-d'Avray\", 'Saint-Denis', 'Paris 4ème', 'Viry-Châtillon', 'Ivry-sur-Seine', 'Pontoise', 'Villeparisis', 'Argenteuil', 'Montrouge', 'Les Pavillons-sous-Bois', 'Maisons-Alfort', 'Chennevières-sur-Marne', 'Meudon la Foret', 'Marly-le-Roi', 'Malakoff', 'Viarmes', 'Maisons-Laffitte', 'Melun', 'Ballancourt-sur-Essonne', 'Paris 6ème', 'Bouafle', 'Cachan', 'Combs-la-Ville', 'Saint-Mandé', 'Nangis', 'Nézel', 'Dammarie-les-Lys', 'Ormesson-sur-Marne', 'Triel-sur-Seine', 'Saint-Maurice', 'Meaux', 'Élancourt', 'Issy-les-Moulineaux', 'Jablines', 'Milly-la-Forêt', 'Paris 11ème', 'Paris 18ème', 'Gentilly', 'Le Kremlin-Bicêtre', 'Arcueil', 'Paris 10ème', 'Noisy-le-Sec', 'Vélizy-Villacoublay', 'Bussy-Saint-Georges', 'Le Chesnay', 'Paris 9ème', 'Livry-Gargan', 'Poissy', 'Enghien-les-Bains', 'Antony', 'Verneuil-sur-Seine', 'Pierrefitte-sur-Seine', 'Villetaneuse', 'Le Vésinet', 'Le Blanc-Mesnil', 'Ermont', 'Aulnay-sous-Bois', 'Orly', 'Cergy', \"Saint-Cyr-l'École\", \"L'Isle-Adam\", 'Montlhéry', 'Palaiseau', 'Coupvray', 'Viroflay', 'Eaubonne', 'Sainte-Geneviève-des-Bois', 'Arpajon', 'Choisy-le-Roi', 'Le Perreux-sur-Marne', 'Corbeil-Essonnes', 'Neuilly-Plaisance', 'Vincennes', 'Bezons', 'Montreuil', 'Montigny-le-Bretonneux', 'Chessy', 'Serris', \"Saint-Ouen-l'Aumône\", 'Fontainebleau', 'Mitry-Mory', \"Montfort-l'Amaury\", 'Avon', 'Gretz-Armainvilliers', 'Limay', 'Andrésy', 'Longjumeau', 'Moissy-Cramayel', 'Le Plessis-Pâté', 'Mantes-la-Ville', 'Beaumont-sur-Oise', 'Meulan-en-Yvelines', 'Saint-Jean-de-Beauregard', 'Rambouillet', 'Le Mesnil-le-Roi', 'Marnes-la-Coquette', 'Plaisir', 'Morangis', 'Marines', 'Rosny-sur-Seine', 'Provins', 'Cernay-la-Ville', 'Franconville', 'Saint-Forget', 'La Varenne Saint Hilaire', 'Guiry-en-Vexin', 'Rosny-sous-Bois', 'Savigny-sur-Orge', 'Aubervilliers', 'Alfortville', 'Bobigny', 'Jouars-Pontchartrain', 'Saulx-les-Chartreux', 'Romainville', 'Montigny-lès-Cormeilles', 'Montesson', 'Cerny', 'Marcoussis', 'Fontenay-le-Fleury', 'Saint-Gratien', 'Belloy-en-France', 'Épinay-sur-Seine', 'Clamart', 'Montmorency', 'Cormeilles-en-Parisis', 'Pringy', 'Bures-sur-Yvette', 'Wissous', 'La Ville-du-Bois', 'Neuilly-sur-Marne', 'Longpont-sur-Orge', 'Mantes-la-Jolie', 'Joinville-le-Pont', 'Carrières-sur-Seine', 'Gagny', 'Paray-Vieille-Poste', 'Égly', 'Conflans-Sainte-Honorine', 'Montgeron', 'Méréville', 'Deuil-la-Barre', 'Fleury-Mérogis', 'Le Plessis-Bouchard', 'Le Châtelet-en-Brie', 'Saint-Mammès', 'Fontenay-aux-Roses', 'Le Port-Marly', 'Le Raincy', 'Pontault-Combault', 'Vernouillet', 'Vaucresson', 'Chatou', 'Houilles', 'Ris-Orangis', 'Juvisy-sur-Orge', 'Saint-Fargeau-Ponthierry', 'Fontenay-sous-Bois', 'Éragny', 'Chalifert', 'Bondoufle', 'Boussy-Saint-Antoine', 'Courcouronnes', 'Jouy-le-Moutier', 'Guérard', 'Crécy-la-Chapelle', 'Tremblay-en-France', 'Menucourt'])\n"
     ]
    }
   ],
   "source": [
    "print(\"Adress des localisation obtenu\", address_coordonner.keys())"
   ]
  },
  {
   "cell_type": "code",
   "execution_count": 123,
   "id": "2b141ddc",
   "metadata": {},
   "outputs": [
    {
     "data": {
      "text/plain": [
       "'Paris 3ème'"
      ]
     },
     "execution_count": 123,
     "metadata": {},
     "output_type": "execute_result"
    }
   ],
   "source": [
    "list(address_coordonner.keys())[list(address_coordonner.keys()) == \"Paris 2ème\"]"
   ]
  },
  {
   "cell_type": "markdown",
   "id": "716e8ec4",
   "metadata": {},
   "source": [
    "On remarque qu'il n'a récuperer la localisation de $Paris$ $2ème$ et qu'il le confond avec $Paris$ $3ème$. On va chercher manuellement l'adress de $Paris$ $2ème$"
   ]
  },
  {
   "cell_type": "code",
   "execution_count": 124,
   "id": "e494cce6",
   "metadata": {},
   "outputs": [],
   "source": [
    "address_coordonner['Paris 2ème'] = ( 48.8686, 2.3417)"
   ]
  },
  {
   "cell_type": "code",
   "execution_count": 125,
   "id": "61ee0d54",
   "metadata": {},
   "outputs": [
    {
     "name": "stderr",
     "output_type": "stream",
     "text": [
      "C:\\Users\\user\\AppData\\Local\\Temp\\ipykernel_21064\\1687187189.py:6: SettingWithCopyWarning: \n",
      "A value is trying to be set on a copy of a slice from a DataFrame.\n",
      "Try using .loc[row_indexer,col_indexer] = value instead\n",
      "\n",
      "See the caveats in the documentation: https://pandas.pydata.org/pandas-docs/stable/user_guide/indexing.html#returning-a-view-versus-a-copy\n",
      "  df_filtre['latitude'] = lat\n",
      "C:\\Users\\user\\AppData\\Local\\Temp\\ipykernel_21064\\1687187189.py:7: SettingWithCopyWarning: \n",
      "A value is trying to be set on a copy of a slice from a DataFrame.\n",
      "Try using .loc[row_indexer,col_indexer] = value instead\n",
      "\n",
      "See the caveats in the documentation: https://pandas.pydata.org/pandas-docs/stable/user_guide/indexing.html#returning-a-view-versus-a-copy\n",
      "  df_filtre['longitude'] = long\n"
     ]
    }
   ],
   "source": [
    "# Longitude et latitude des address de df_filtre\n",
    "lat = [address_coordonner[lieu][0] for lieu in df_filtre['address']]\n",
    "long = [address_coordonner[lieu][1] for lieu in df_filtre['address']]\n",
    "\n",
    "# Ajout des longitude et latitude trouvé à df_filtre\n",
    "df_filtre['latitude'] = lat\n",
    "df_filtre['longitude'] = long"
   ]
  },
  {
   "cell_type": "code",
   "execution_count": 126,
   "id": "e0b3c6a8",
   "metadata": {
    "scrolled": true
   },
   "outputs": [
    {
     "data": {
      "text/html": [
       "<div>\n",
       "<style scoped>\n",
       "    .dataframe tbody tr th:only-of-type {\n",
       "        vertical-align: middle;\n",
       "    }\n",
       "\n",
       "    .dataframe tbody tr th {\n",
       "        vertical-align: top;\n",
       "    }\n",
       "\n",
       "    .dataframe thead th {\n",
       "        text-align: right;\n",
       "    }\n",
       "</style>\n",
       "<table border=\"1\" class=\"dataframe\">\n",
       "  <thead>\n",
       "    <tr style=\"text-align: right;\">\n",
       "      <th></th>\n",
       "      <th>id</th>\n",
       "      <th>tags</th>\n",
       "      <th>title</th>\n",
       "      <th>rooms</th>\n",
       "      <th>ref</th>\n",
       "      <th>pricing_price_note</th>\n",
       "      <th>price_decrease_percent</th>\n",
       "      <th>price_per_meter</th>\n",
       "      <th>price</th>\n",
       "      <th>nature</th>\n",
       "      <th>...</th>\n",
       "      <th>estate_type</th>\n",
       "      <th>dpe</th>\n",
       "      <th>district</th>\n",
       "      <th>coownership_is_syndic_procedure</th>\n",
       "      <th>business_unit</th>\n",
       "      <th>bedrooms_count</th>\n",
       "      <th>area</th>\n",
       "      <th>address</th>\n",
       "      <th>latitude</th>\n",
       "      <th>longitude</th>\n",
       "    </tr>\n",
       "  </thead>\n",
       "  <tbody>\n",
       "    <tr>\n",
       "      <th>0</th>\n",
       "      <td>678761</td>\n",
       "      <td>5 pièces, 3 chambres, 240 m², Étage 2/–, Balco...</td>\n",
       "      <td>NaN</td>\n",
       "      <td>5</td>\n",
       "      <td>NaN</td>\n",
       "      <td>cc</td>\n",
       "      <td>NaN</td>\n",
       "      <td>125.0</td>\n",
       "      <td>30000</td>\n",
       "      <td>3</td>\n",
       "      <td>...</td>\n",
       "      <td>Appartement</td>\n",
       "      <td>NaN</td>\n",
       "      <td>Archives</td>\n",
       "      <td>f</td>\n",
       "      <td>5</td>\n",
       "      <td>0.0</td>\n",
       "      <td>240.000000</td>\n",
       "      <td>Paris 3ème</td>\n",
       "      <td>48.863873</td>\n",
       "      <td>2.361786</td>\n",
       "    </tr>\n",
       "    <tr>\n",
       "      <th>1</th>\n",
       "      <td>810576</td>\n",
       "      <td>7 pièces, 4 chambres, 180 m², Étage 4/5, Balco...</td>\n",
       "      <td>NaN</td>\n",
       "      <td>7</td>\n",
       "      <td>NaN</td>\n",
       "      <td>cc</td>\n",
       "      <td>NaN</td>\n",
       "      <td>83.0</td>\n",
       "      <td>15000</td>\n",
       "      <td>3</td>\n",
       "      <td>...</td>\n",
       "      <td>Duplex</td>\n",
       "      <td>NaN</td>\n",
       "      <td>Gros Caillou</td>\n",
       "      <td>f</td>\n",
       "      <td>5</td>\n",
       "      <td>0.0</td>\n",
       "      <td>180.722892</td>\n",
       "      <td>Paris 7ème</td>\n",
       "      <td>48.857274</td>\n",
       "      <td>2.318348</td>\n",
       "    </tr>\n",
       "  </tbody>\n",
       "</table>\n",
       "<p>2 rows × 25 columns</p>\n",
       "</div>"
      ],
      "text/plain": [
       "       id                                               tags title  rooms  \\\n",
       "0  678761  5 pièces, 3 chambres, 240 m², Étage 2/–, Balco...   NaN      5   \n",
       "1  810576  7 pièces, 4 chambres, 180 m², Étage 4/5, Balco...   NaN      7   \n",
       "\n",
       "   ref pricing_price_note  price_decrease_percent  price_per_meter  price  \\\n",
       "0  NaN                 cc                     NaN            125.0  30000   \n",
       "1  NaN                 cc                     NaN             83.0  15000   \n",
       "\n",
       "   nature  ...  estate_type  dpe      district  \\\n",
       "0       3  ...  Appartement  NaN      Archives   \n",
       "1       3  ...       Duplex  NaN  Gros Caillou   \n",
       "\n",
       "  coownership_is_syndic_procedure  business_unit bedrooms_count        area  \\\n",
       "0                               f              5            0.0  240.000000   \n",
       "1                               f              5            0.0  180.722892   \n",
       "\n",
       "      address   latitude  longitude  \n",
       "0  Paris 3ème  48.863873   2.361786  \n",
       "1  Paris 7ème  48.857274   2.318348  \n",
       "\n",
       "[2 rows x 25 columns]"
      ]
     },
     "execution_count": 126,
     "metadata": {},
     "output_type": "execute_result"
    }
   ],
   "source": [
    "df_filtre.head(2)"
   ]
  },
  {
   "cell_type": "markdown",
   "id": "3a8b454a",
   "metadata": {},
   "source": [
    "### On remarque ci dessus que les nombres de bedrooms_count sont mal saisis car sont différentes de ce qui est mis dans tags. Nous allons récupérer les bedrooms_count à partir de tags."
   ]
  },
  {
   "cell_type": "code",
   "execution_count": 127,
   "id": "af394fa8",
   "metadata": {},
   "outputs": [
    {
     "data": {
      "text/plain": [
       "'5 pièces, 3 chambres, 240 m², Étage 2/–, Balcon, Ascenseur'"
      ]
     },
     "execution_count": 127,
     "metadata": {},
     "output_type": "execute_result"
    }
   ],
   "source": [
    "df_filtre[\"tags\"][0] "
   ]
  },
  {
   "cell_type": "code",
   "execution_count": 128,
   "id": "53924301",
   "metadata": {},
   "outputs": [],
   "source": [
    "new_bedrooms_count = []\n",
    "\n",
    "for i in range(df_filtre.shape[0]):\n",
    "    texte = df_filtre[\"tags\"][i]\n",
    "    # Utiliser une expression régulière pour extraire le nombre associé à la chaîne \"pain\"\n",
    "    correspondance = re.search(r'\\b(\\d+)\\s*chambres\\b', texte)\n",
    "    \n",
    "    if correspondance:\n",
    "        new_bedrooms_count.append(int(correspondance.group(1)))\n",
    "    else:\n",
    "        new_bedrooms_count.append(0)       "
   ]
  },
  {
   "cell_type": "code",
   "execution_count": 129,
   "id": "1490257d",
   "metadata": {},
   "outputs": [
    {
     "name": "stderr",
     "output_type": "stream",
     "text": [
      "C:\\Users\\user\\AppData\\Local\\Temp\\ipykernel_21064\\4177119301.py:2: SettingWithCopyWarning: \n",
      "A value is trying to be set on a copy of a slice from a DataFrame.\n",
      "Try using .loc[row_indexer,col_indexer] = value instead\n",
      "\n",
      "See the caveats in the documentation: https://pandas.pydata.org/pandas-docs/stable/user_guide/indexing.html#returning-a-view-versus-a-copy\n",
      "  df_filtre[\"new_bedrooms_count\"] = new_bedrooms_count\n"
     ]
    },
    {
     "data": {
      "text/html": [
       "<div>\n",
       "<style scoped>\n",
       "    .dataframe tbody tr th:only-of-type {\n",
       "        vertical-align: middle;\n",
       "    }\n",
       "\n",
       "    .dataframe tbody tr th {\n",
       "        vertical-align: top;\n",
       "    }\n",
       "\n",
       "    .dataframe thead th {\n",
       "        text-align: right;\n",
       "    }\n",
       "</style>\n",
       "<table border=\"1\" class=\"dataframe\">\n",
       "  <thead>\n",
       "    <tr style=\"text-align: right;\">\n",
       "      <th></th>\n",
       "      <th>id</th>\n",
       "      <th>tags</th>\n",
       "      <th>title</th>\n",
       "      <th>rooms</th>\n",
       "      <th>ref</th>\n",
       "      <th>pricing_price_note</th>\n",
       "      <th>price_decrease_percent</th>\n",
       "      <th>price_per_meter</th>\n",
       "      <th>price</th>\n",
       "      <th>nature</th>\n",
       "      <th>...</th>\n",
       "      <th>dpe</th>\n",
       "      <th>district</th>\n",
       "      <th>coownership_is_syndic_procedure</th>\n",
       "      <th>business_unit</th>\n",
       "      <th>bedrooms_count</th>\n",
       "      <th>area</th>\n",
       "      <th>address</th>\n",
       "      <th>latitude</th>\n",
       "      <th>longitude</th>\n",
       "      <th>new_bedrooms_count</th>\n",
       "    </tr>\n",
       "  </thead>\n",
       "  <tbody>\n",
       "    <tr>\n",
       "      <th>0</th>\n",
       "      <td>678761</td>\n",
       "      <td>5 pièces, 3 chambres, 240 m², Étage 2/–, Balco...</td>\n",
       "      <td>NaN</td>\n",
       "      <td>5</td>\n",
       "      <td>NaN</td>\n",
       "      <td>cc</td>\n",
       "      <td>NaN</td>\n",
       "      <td>125.0</td>\n",
       "      <td>30000</td>\n",
       "      <td>3</td>\n",
       "      <td>...</td>\n",
       "      <td>NaN</td>\n",
       "      <td>Archives</td>\n",
       "      <td>f</td>\n",
       "      <td>5</td>\n",
       "      <td>0.0</td>\n",
       "      <td>240.000000</td>\n",
       "      <td>Paris 3ème</td>\n",
       "      <td>48.863873</td>\n",
       "      <td>2.361786</td>\n",
       "      <td>3</td>\n",
       "    </tr>\n",
       "    <tr>\n",
       "      <th>1</th>\n",
       "      <td>810576</td>\n",
       "      <td>7 pièces, 4 chambres, 180 m², Étage 4/5, Balco...</td>\n",
       "      <td>NaN</td>\n",
       "      <td>7</td>\n",
       "      <td>NaN</td>\n",
       "      <td>cc</td>\n",
       "      <td>NaN</td>\n",
       "      <td>83.0</td>\n",
       "      <td>15000</td>\n",
       "      <td>3</td>\n",
       "      <td>...</td>\n",
       "      <td>NaN</td>\n",
       "      <td>Gros Caillou</td>\n",
       "      <td>f</td>\n",
       "      <td>5</td>\n",
       "      <td>0.0</td>\n",
       "      <td>180.722892</td>\n",
       "      <td>Paris 7ème</td>\n",
       "      <td>48.857274</td>\n",
       "      <td>2.318348</td>\n",
       "      <td>4</td>\n",
       "    </tr>\n",
       "  </tbody>\n",
       "</table>\n",
       "<p>2 rows × 26 columns</p>\n",
       "</div>"
      ],
      "text/plain": [
       "       id                                               tags title  rooms  \\\n",
       "0  678761  5 pièces, 3 chambres, 240 m², Étage 2/–, Balco...   NaN      5   \n",
       "1  810576  7 pièces, 4 chambres, 180 m², Étage 4/5, Balco...   NaN      7   \n",
       "\n",
       "   ref pricing_price_note  price_decrease_percent  price_per_meter  price  \\\n",
       "0  NaN                 cc                     NaN            125.0  30000   \n",
       "1  NaN                 cc                     NaN             83.0  15000   \n",
       "\n",
       "   nature  ...  dpe      district  coownership_is_syndic_procedure  \\\n",
       "0       3  ...  NaN      Archives                                f   \n",
       "1       3  ...  NaN  Gros Caillou                                f   \n",
       "\n",
       "  business_unit  bedrooms_count        area     address   latitude longitude  \\\n",
       "0             5             0.0  240.000000  Paris 3ème  48.863873  2.361786   \n",
       "1             5             0.0  180.722892  Paris 7ème  48.857274  2.318348   \n",
       "\n",
       "   new_bedrooms_count  \n",
       "0                   3  \n",
       "1                   4  \n",
       "\n",
       "[2 rows x 26 columns]"
      ]
     },
     "execution_count": 129,
     "metadata": {},
     "output_type": "execute_result"
    }
   ],
   "source": [
    "# Ajout de la nouvelle colonne\n",
    "df_filtre[\"new_bedrooms_count\"] = new_bedrooms_count\n",
    "df_filtre.head(2)"
   ]
  },
  {
   "cell_type": "code",
   "execution_count": 130,
   "id": "3f8aeb9e",
   "metadata": {},
   "outputs": [],
   "source": [
    "#Suppression de bedrooms_count\n",
    "df_filtre = df_filtre.drop(columns = \"bedrooms_count\")"
   ]
  },
  {
   "cell_type": "code",
   "execution_count": 131,
   "id": "c4c9b98f",
   "metadata": {
    "scrolled": true
   },
   "outputs": [],
   "source": [
    "# m = df_filtre.corr().round(2)\n",
    "# m"
   ]
  },
  {
   "cell_type": "markdown",
   "id": "5aec118b",
   "metadata": {},
   "source": [
    "#### Nous allons choisir une des attributs si leur coleration est > 0.60 et nous voyons qu'il ne sera pas nécésaire pour une recommandation.\n",
    "corr(price, price_per_meter) = 0.60, on choisi $price$  \n",
    "\n",
    "corr(price, nature) = corr(price, business_unit) = 0.65, on abandonne nature et business_unit  \n",
    "\n",
    "corr(price, area) = 0.79 mais nous allons conserver les deux car sont importantes pour une recommandation.  \n",
    "\n",
    "corr(new_bedrooms_count, area) = 0.75 mais nous allons conserver les deux car sont importantes pour une recommandation."
   ]
  },
  {
   "cell_type": "code",
   "execution_count": 132,
   "id": "166030d0",
   "metadata": {},
   "outputs": [
    {
     "name": "stdout",
     "output_type": "stream",
     "text": [
      "<class 'pandas.core.frame.DataFrame'>\n",
      "RangeIndex: 4769 entries, 0 to 4768\n",
      "Data columns (total 13 columns):\n",
      " #   Column              Non-Null Count  Dtype  \n",
      "---  ------              --------------  -----  \n",
      " 0   id                  4769 non-null   int64  \n",
      " 1   tags                4769 non-null   object \n",
      " 2   rooms               4769 non-null   int64  \n",
      " 3   price               4769 non-null   int64  \n",
      " 4   is_exclusive        4769 non-null   object \n",
      " 5   highlighting_level  4769 non-null   int64  \n",
      " 6   estate_type         4769 non-null   object \n",
      " 7   district            4020 non-null   object \n",
      " 8   area                4751 non-null   float64\n",
      " 9   address             4769 non-null   object \n",
      " 10  latitude            4769 non-null   float64\n",
      " 11  longitude           4769 non-null   float64\n",
      " 12  new_bedrooms_count  4769 non-null   int64  \n",
      "dtypes: float64(3), int64(5), object(5)\n",
      "memory usage: 484.5+ KB\n"
     ]
    }
   ],
   "source": [
    "# On va supprimer aussi pricing_price_note car n'ai par néccessaire\n",
    "colonnes_a_supprimer = [\"nature\", \"business_unit\", \"price_per_meter\", \"pricing_price_note\",'title', 'ges', 'electricity_consumption', 'ref', 'gas_emissions', \"price_decrease_percent\", \"coownership_is_syndic_procedure\", \"dpe\"] \n",
    "new_data = df_filtre.drop(columns=colonnes_a_supprimer)\n",
    "new_data.info()"
   ]
  },
  {
   "cell_type": "code",
   "execution_count": 133,
   "id": "b076a11a",
   "metadata": {},
   "outputs": [],
   "source": [
    "# Suppresion des valeurs dupliquées\n",
    "new_data = new_data[~new_data.duplicated(subset = \"id\", keep = \"last\")]"
   ]
  },
  {
   "cell_type": "code",
   "execution_count": 134,
   "id": "812e6534",
   "metadata": {},
   "outputs": [
    {
     "name": "stdout",
     "output_type": "stream",
     "text": [
      "<class 'pandas.core.frame.DataFrame'>\n",
      "Index: 1157 entries, 94 to 4768\n",
      "Data columns (total 13 columns):\n",
      " #   Column              Non-Null Count  Dtype  \n",
      "---  ------              --------------  -----  \n",
      " 0   id                  1157 non-null   int64  \n",
      " 1   tags                1157 non-null   object \n",
      " 2   rooms               1157 non-null   int64  \n",
      " 3   price               1157 non-null   int64  \n",
      " 4   is_exclusive        1157 non-null   object \n",
      " 5   highlighting_level  1157 non-null   int64  \n",
      " 6   estate_type         1157 non-null   object \n",
      " 7   district            975 non-null    object \n",
      " 8   area                1153 non-null   float64\n",
      " 9   address             1157 non-null   object \n",
      " 10  latitude            1157 non-null   float64\n",
      " 11  longitude           1157 non-null   float64\n",
      " 12  new_bedrooms_count  1157 non-null   int64  \n",
      "dtypes: float64(3), int64(5), object(5)\n",
      "memory usage: 126.5+ KB\n"
     ]
    }
   ],
   "source": [
    "new_data.info()"
   ]
  },
  {
   "cell_type": "markdown",
   "id": "797991a2",
   "metadata": {},
   "source": [
    "Parmis les lignes non dupliquées la colonne $district$ à trop de valeur manquante nous allons la supprimer avant de supprimer ligne où il y a des valeurs manquantes afin de ne pas perdre assez de données"
   ]
  },
  {
   "cell_type": "code",
   "execution_count": 135,
   "id": "30444374",
   "metadata": {},
   "outputs": [],
   "source": [
    "new_data = new_data.drop(columns=[\"district\"])"
   ]
  },
  {
   "cell_type": "code",
   "execution_count": 136,
   "id": "8945f168",
   "metadata": {},
   "outputs": [
    {
     "name": "stdout",
     "output_type": "stream",
     "text": [
      "<class 'pandas.core.frame.DataFrame'>\n",
      "Index: 1153 entries, 94 to 4768\n",
      "Data columns (total 12 columns):\n",
      " #   Column              Non-Null Count  Dtype  \n",
      "---  ------              --------------  -----  \n",
      " 0   id                  1153 non-null   int64  \n",
      " 1   tags                1153 non-null   object \n",
      " 2   rooms               1153 non-null   int64  \n",
      " 3   price               1153 non-null   int64  \n",
      " 4   is_exclusive        1153 non-null   object \n",
      " 5   highlighting_level  1153 non-null   int64  \n",
      " 6   estate_type         1153 non-null   object \n",
      " 7   area                1153 non-null   float64\n",
      " 8   address             1153 non-null   object \n",
      " 9   latitude            1153 non-null   float64\n",
      " 10  longitude           1153 non-null   float64\n",
      " 11  new_bedrooms_count  1153 non-null   int64  \n",
      "dtypes: float64(3), int64(5), object(4)\n",
      "memory usage: 117.1+ KB\n"
     ]
    }
   ],
   "source": [
    "new_data = new_data.dropna()\n",
    "new_data.info()"
   ]
  },
  {
   "cell_type": "code",
   "execution_count": null,
   "id": "481dfa3d",
   "metadata": {},
   "outputs": [],
   "source": []
  },
  {
   "cell_type": "markdown",
   "id": "79589001",
   "metadata": {},
   "source": [
    "## Data visualization"
   ]
  },
  {
   "cell_type": "code",
   "execution_count": 137,
   "id": "76bb1f1f",
   "metadata": {
    "scrolled": true
   },
   "outputs": [
    {
     "data": {
      "text/plain": [
       "<Axes: xlabel='estate_type', ylabel='price'>"
      ]
     },
     "execution_count": 137,
     "metadata": {},
     "output_type": "execute_result"
    },
    {
     "data": {
      "image/png": "[encoded data removed]",
      "text/plain": [
       "<Figure size 640x480 with 1 Axes>"
      ]
     },
     "metadata": {},
     "output_type": "display_data"
    }
   ],
   "source": [
    "sns.boxplot(x = 'estate_type', y = 'price', hue = 'is_exclusive', data = new_data)"
   ]
  },
  {
   "cell_type": "code",
   "execution_count": 138,
   "id": "2e6d5faf",
   "metadata": {},
   "outputs": [],
   "source": [
    "# mc = new_data.corr().round(2)\n",
    "# sns.heatmap(mc, annot=True, cmap='coolwarm', fmt=\".2f\")\n",
    "# #plt.figure(figsize=(20, 10))\n",
    "# #sns.heatmap(m, annot = True)\n",
    "# plt.show()"
   ]
  },
  {
   "cell_type": "markdown",
   "id": "0e8d983f",
   "metadata": {},
   "source": [
    "## Data preprocessing"
   ]
  },
  {
   "cell_type": "code",
   "execution_count": 139,
   "id": "f454f6dd",
   "metadata": {},
   "outputs": [
    {
     "name": "stdout",
     "output_type": "stream",
     "text": [
      "<class 'pandas.core.frame.DataFrame'>\n",
      "Index: 1153 entries, 94 to 4768\n",
      "Data columns (total 12 columns):\n",
      " #   Column              Non-Null Count  Dtype  \n",
      "---  ------              --------------  -----  \n",
      " 0   id                  1153 non-null   int64  \n",
      " 1   tags                1153 non-null   object \n",
      " 2   rooms               1153 non-null   int64  \n",
      " 3   price               1153 non-null   int64  \n",
      " 4   is_exclusive        1153 non-null   object \n",
      " 5   highlighting_level  1153 non-null   int64  \n",
      " 6   estate_type         1153 non-null   object \n",
      " 7   area                1153 non-null   float64\n",
      " 8   address             1153 non-null   object \n",
      " 9   latitude            1153 non-null   float64\n",
      " 10  longitude           1153 non-null   float64\n",
      " 11  new_bedrooms_count  1153 non-null   int64  \n",
      "dtypes: float64(3), int64(5), object(4)\n",
      "memory usage: 117.1+ KB\n"
     ]
    }
   ],
   "source": [
    "new_data.info()"
   ]
  },
  {
   "cell_type": "code",
   "execution_count": 140,
   "id": "d60856f8",
   "metadata": {
    "scrolled": false
   },
   "outputs": [
    {
     "data": {
      "text/html": [
       "<div>\n",
       "<style scoped>\n",
       "    .dataframe tbody tr th:only-of-type {\n",
       "        vertical-align: middle;\n",
       "    }\n",
       "\n",
       "    .dataframe tbody tr th {\n",
       "        vertical-align: top;\n",
       "    }\n",
       "\n",
       "    .dataframe thead th {\n",
       "        text-align: right;\n",
       "    }\n",
       "</style>\n",
       "<table border=\"1\" class=\"dataframe\">\n",
       "  <thead>\n",
       "    <tr style=\"text-align: right;\">\n",
       "      <th></th>\n",
       "      <th>id</th>\n",
       "      <th>tags</th>\n",
       "      <th>rooms</th>\n",
       "      <th>price</th>\n",
       "      <th>is_exclusive</th>\n",
       "      <th>highlighting_level</th>\n",
       "      <th>estate_type</th>\n",
       "      <th>area</th>\n",
       "      <th>address</th>\n",
       "      <th>latitude</th>\n",
       "      <th>longitude</th>\n",
       "      <th>new_bedrooms_count</th>\n",
       "    </tr>\n",
       "  </thead>\n",
       "  <tbody>\n",
       "    <tr>\n",
       "      <th>94</th>\n",
       "      <td>3680995</td>\n",
       "      <td>6 pièces, 4 chambres, 166 m², Étage 1/2, Terra...</td>\n",
       "      <td>6</td>\n",
       "      <td>4270</td>\n",
       "      <td>t</td>\n",
       "      <td>2</td>\n",
       "      <td>Appartement</td>\n",
       "      <td>164.230769</td>\n",
       "      <td>Saint-Germain-en-Laye</td>\n",
       "      <td>48.899041</td>\n",
       "      <td>2.094279</td>\n",
       "      <td>4</td>\n",
       "    </tr>\n",
       "    <tr>\n",
       "      <th>161</th>\n",
       "      <td>4118349</td>\n",
       "      <td>3 pièces, 2 chambres, 69 m², Étage 5/5, Ascenseur</td>\n",
       "      <td>3</td>\n",
       "      <td>3000</td>\n",
       "      <td>f</td>\n",
       "      <td>2</td>\n",
       "      <td>Appartement</td>\n",
       "      <td>68.181818</td>\n",
       "      <td>Paris 8ème</td>\n",
       "      <td>48.867098</td>\n",
       "      <td>2.313122</td>\n",
       "      <td>2</td>\n",
       "    </tr>\n",
       "  </tbody>\n",
       "</table>\n",
       "</div>"
      ],
      "text/plain": [
       "          id                                               tags  rooms  price  \\\n",
       "94   3680995  6 pièces, 4 chambres, 166 m², Étage 1/2, Terra...      6   4270   \n",
       "161  4118349  3 pièces, 2 chambres, 69 m², Étage 5/5, Ascenseur      3   3000   \n",
       "\n",
       "    is_exclusive  highlighting_level  estate_type        area  \\\n",
       "94             t                   2  Appartement  164.230769   \n",
       "161            f                   2  Appartement   68.181818   \n",
       "\n",
       "                   address   latitude  longitude  new_bedrooms_count  \n",
       "94   Saint-Germain-en-Laye  48.899041   2.094279                   4  \n",
       "161             Paris 8ème  48.867098   2.313122                   2  "
      ]
     },
     "execution_count": 140,
     "metadata": {},
     "output_type": "execute_result"
    }
   ],
   "source": [
    "new_data.head(2)"
   ]
  },
  {
   "cell_type": "markdown",
   "id": "a31341c7",
   "metadata": {},
   "source": [
    "#### Choix des encodeurs"
   ]
  },
  {
   "cell_type": "code",
   "execution_count": 141,
   "id": "c0575156",
   "metadata": {},
   "outputs": [],
   "source": [
    "# Donnée pour le modèle\n",
    "model_data = new_data.drop(columns = [\"id\", \"tags\", \"address\", \"highlighting_level\"])"
   ]
  },
  {
   "cell_type": "code",
   "execution_count": 142,
   "id": "2581aa22",
   "metadata": {},
   "outputs": [],
   "source": [
    "# Création des encodeurs\n",
    "numeric_transformer = StandardScaler()\n",
    "text_OHE = OneHotEncoder()\n",
    "\n",
    "# Séparation des variables numériques des catégorielles\n",
    "var_num = model_data.select_dtypes(include=['number'])\n",
    "var_cat = model_data.select_dtypes(include=['object'])\n",
    "\n",
    "# Création du préprocesseur pour appliquer les transformations aux colonnes appropriées\n",
    "\n",
    "preprocessor = ColumnTransformer(\n",
    "    transformers=[\n",
    "        ('text', text_OHE, var_cat.columns),\n",
    "        ('numeric', numeric_transformer, var_num.columns)\n",
    "    ],\n",
    ")\n",
    "\n",
    "pipeline = Pipeline(steps=[\n",
    "    ('preprocessor', preprocessor)\n",
    "])"
   ]
  },
  {
   "cell_type": "code",
   "execution_count": null,
   "id": "a6237184",
   "metadata": {},
   "outputs": [],
   "source": []
  },
  {
   "cell_type": "markdown",
   "id": "30be3537",
   "metadata": {},
   "source": [
    "D'autre part, la recommandation doit ovrir une qualité acceptable, ce qui nécessite de détecter et de regrouper en amont les indicateurs les plus pertinents."
   ]
  },
  {
   "cell_type": "code",
   "execution_count": 143,
   "id": "4ef193fc",
   "metadata": {},
   "outputs": [],
   "source": [
    "appartement = model_data[model_data[\"estate_type\"] == \"Appartement\"]\n",
    "duplex = model_data[model_data[\"estate_type\"] == \"Duplex\"] \n",
    "studio = model_data[model_data[\"estate_type\"] == \"Studio\"]\n",
    "triplex = model_data[model_data[\"estate_type\"] == \"Triplex\"]"
   ]
  },
  {
   "cell_type": "code",
   "execution_count": null,
   "id": "ced24093",
   "metadata": {},
   "outputs": [],
   "source": []
  },
  {
   "cell_type": "markdown",
   "id": "f940a12a",
   "metadata": {},
   "source": [
    "## Algorithm selection"
   ]
  },
  {
   "cell_type": "markdown",
   "id": "1f5d48f4",
   "metadata": {},
   "source": [
    "Plusieurs stratégies peuvent être adoptées face à un système de recommandation. Ils se divisent principalement en trois catégories :   \n",
    "-$Basiques$ : En utilisant la similarité ou la popularité.  \n",
    "\n",
    "-$Basés sur le contenu$ : Il se base sur des recommandation similaires aux gouts d'un utilisateurs  \n",
    "\n",
    "-$Basés sur le collaboratif$ : Lui détecte les utilisateurs qui partagent le même goût pour les proposer des recommandation similaire.  \n",
    "\n",
    "La catégorie $Basiques$ est mieux adapté aux données que nous disposons."
   ]
  },
  {
   "cell_type": "markdown",
   "id": "61089998",
   "metadata": {},
   "source": [
    "Nous allons essayer :  \n",
    "\n",
    "Les algorithmes basiques qui sont la mesure cosine et la mesure distance euclidienne.  \n",
    "Et l'algorithme KNN (K-Nearest Neighbors ), algorithme de type content-based et collaborative clustering qui permet de classier un objet en fonction de son voisinage.  "
   ]
  },
  {
   "cell_type": "markdown",
   "id": "85b94bc1",
   "metadata": {},
   "source": [
    "### Basique: Similarité avec cosine"
   ]
  },
  {
   "cell_type": "code",
   "execution_count": 144,
   "id": "ec5482fc",
   "metadata": {},
   "outputs": [],
   "source": [
    "# Préparation des données pour l'entraînement du modèle\n",
    "X_transformed = pipeline.fit_transform(model_data)"
   ]
  },
  {
   "cell_type": "code",
   "execution_count": 145,
   "id": "2583b5ec",
   "metadata": {},
   "outputs": [],
   "source": [
    "from sklearn.metrics.pairwise import cosine_similarity\n",
    "\n",
    "def recommend_apartments_cosine(client_preferences, X_transformed=X_transformed, df=new_data):\n",
    "    type_appart = client_preferences[\"estate_type\"]\n",
    "    # Transformez les préférences du client avec le même préprocesseur\n",
    "    \n",
    "    client_input = pipeline.transform(pd.DataFrame(client_preferences, index=[0]))\n",
    "    \n",
    "    \n",
    "    cosine_sim = cosine_similarity(client_input, X_transformed).flatten()\n",
    "    \n",
    "\n",
    "    # Trier les appartements par score de similarité \n",
    "    apartment_indices = cosine_sim.argsort()[::-1]\n",
    "   \n",
    "    # Renvoyer les détails des 5 appartements recommandés\n",
    "    top_5 = df.iloc[apartment_indices][df.iloc[apartment_indices]['estate_type'] == type_appart].head(5)\n",
    "    \n",
    "    return top_5.drop(columns = [\"id\", \"tags\", \"longitude\", \"latitude\", \"highlighting_level\"])"
   ]
  },
  {
   "cell_type": "code",
   "execution_count": 146,
   "id": "e6c503ba",
   "metadata": {},
   "outputs": [],
   "source": [
    "from sklearn.metrics.pairwise import euclidean_distances\n",
    "\n",
    "def recommend_apartments_euclidean_distances(client_preferences, X_transformed=X_transformed, df=new_data):\n",
    "    \n",
    "    type_appart = client_preferences[\"estate_type\"]\n",
    "    # Transformez les préférences du client avec le même préprocesseur\n",
    "    client_input = pipeline.transform(pd.DataFrame(client_preferences, index=[0]))\n",
    "   \n",
    "    # Calcul de la distance euclidienne entre les préférences du client et les appartements\n",
    "    distances = euclidean_distances(client_input, X_transformed).flatten()\n",
    "\n",
    "    # Trier les appartements par score de similarité (plus petite distance euclidienne)\n",
    "    apartment_indices = distances.argsort()\n",
    "\n",
    "    # Renvoyer les détails des 5 appartements recommandés\n",
    "    top_5 = df.iloc[apartment_indices][df.iloc[apartment_indices]['estate_type'] == type_appart].head(5)\n",
    "    \n",
    "    return top_5.drop(columns = [\"id\", \"tags\", \"longitude\", \"latitude\", \"highlighting_level\"])\n"
   ]
  },
  {
   "cell_type": "code",
   "execution_count": 147,
   "id": "a712a4a0",
   "metadata": {},
   "outputs": [],
   "source": [
    "\n",
    "\n",
    "knn_model = NearestNeighbors(n_neighbors=5, algorithm='auto')  # le nombre de voisins\n",
    "knn_model.fit(X_transformed)\n",
    "\n",
    "# Fonction de recommandation avec Nearest Neighbors\n",
    "def recommend_apartments_knn(client_preferences, knn_model=knn_model, preprocessor=preprocessor, df = new_data):\n",
    "    # Transformez les préférences du client avec le même préprocesseur\n",
    "    client_input = preprocessor.transform(pd.DataFrame(client_preferences, index=[0]))\n",
    "\n",
    "    # Trouvez les indices des appartements les plus proches\n",
    "    _, indices = knn_model.kneighbors(client_input)\n",
    "\n",
    "    # Renvoyer les détails des appartements recommandés\n",
    "    recommended_apartments = df.iloc[indices.flatten()]\n",
    "    # Vérifier si les préférences du client ne sont pas dans les données\n",
    "    if len(recommended_apartments) == 0:\n",
    "        return \"Aucune recommandation disponible. Veuillez ajuster vos préférences.\"\n",
    "    top_5 = recommended_apartments.drop(columns = [\"id\", \"tags\", \"longitude\", \"latitude\", \"highlighting_level\"])\n",
    "\n",
    "    return top_5"
   ]
  },
  {
   "cell_type": "code",
   "execution_count": 148,
   "id": "913e69e7",
   "metadata": {},
   "outputs": [],
   "source": [
    "import pickle"
   ]
  },
  {
   "cell_type": "code",
   "execution_count": 149,
   "id": "57ddc0b2",
   "metadata": {},
   "outputs": [],
   "source": [
    "file = \"knn_model.pkl\"\n",
    "with open(file, \"wb\") as knn:\n",
    "    pickle.dump(knn_model, knn)"
   ]
  },
  {
   "cell_type": "code",
   "execution_count": 150,
   "id": "25424054",
   "metadata": {},
   "outputs": [],
   "source": [
    "file =  \"preprocessor.pkl\"\n",
    "with open(file, \"wb\") as pro:\n",
    "    pickle.dump(preprocessor, pro)"
   ]
  },
  {
   "cell_type": "code",
   "execution_count": 151,
   "id": "ee4c30b6",
   "metadata": {},
   "outputs": [],
   "source": [
    "file =  \"new_data.pkl\"\n",
    "with open(file, \"wb\") as pro:\n",
    "    pickle.dump(new_data, pro)"
   ]
  },
  {
   "cell_type": "code",
   "execution_count": 152,
   "id": "b96fba60",
   "metadata": {},
   "outputs": [],
   "source": [
    "new_data.to_csv(\"new_data.csv\", index = None)"
   ]
  },
  {
   "cell_type": "code",
   "execution_count": null,
   "id": "2d40ff3b",
   "metadata": {},
   "outputs": [],
   "source": []
  },
  {
   "cell_type": "code",
   "execution_count": null,
   "id": "fc2c8d07",
   "metadata": {},
   "outputs": [],
   "source": []
  },
  {
   "cell_type": "code",
   "execution_count": 153,
   "id": "633ea2af",
   "metadata": {
    "scrolled": true
   },
   "outputs": [],
   "source": [
    "# Données pour tester nos modèles\n",
    "\n",
    "# Lieu choisi par le client\n",
    "coord = coordonner(['Paris'])\n",
    "lat = coord['Paris'][0]\n",
    "long = coord['Paris'][1]\n",
    "\n",
    "# Préférence par rapport au logement\n",
    "client_preferences1 = {\n",
    "'area'             :      180.722892,\n",
    "'rooms'             :         7  ,\n",
    "'price'            :        15000,\n",
    "'is_exclusive'   : \"f\",\n",
    "'new_bedrooms_count' : 3,\n",
    "'estate_type' : \"Appartement\",\n",
    "'longitude' : long,\n",
    "'latitude' : lat\n",
    "}\n",
    "\n",
    "\n",
    "client_preferences2 = {\n",
    "'area'             :      30,\n",
    "'rooms'             :         1,\n",
    "'price'            :        600,\n",
    "'is_exclusive'   : \"f\",\n",
    "'new_bedrooms_count' : 0,\n",
    "'estate_type' : \"Studio\",\n",
    "'longitude' : long,\n",
    "'latitude' : lat\n",
    "}\n",
    "\n",
    "\n",
    "client_preferences3 = {\n",
    "'area'             :      200,\n",
    "'rooms'             :         5,\n",
    "'price'            :        7000,\n",
    "'is_exclusive'   : \"f\",\n",
    "'new_bedrooms_count' : 3,\n",
    "'estate_type' : \"Duplex\",\n",
    "'longitude' : long,\n",
    "'latitude' : lat\n",
    "}\n"
   ]
  },
  {
   "cell_type": "code",
   "execution_count": 154,
   "id": "34bccd6f",
   "metadata": {},
   "outputs": [
    {
     "data": {
      "text/html": [
       "<div>\n",
       "<style scoped>\n",
       "    .dataframe tbody tr th:only-of-type {\n",
       "        vertical-align: middle;\n",
       "    }\n",
       "\n",
       "    .dataframe tbody tr th {\n",
       "        vertical-align: top;\n",
       "    }\n",
       "\n",
       "    .dataframe thead th {\n",
       "        text-align: right;\n",
       "    }\n",
       "</style>\n",
       "<table border=\"1\" class=\"dataframe\">\n",
       "  <thead>\n",
       "    <tr style=\"text-align: right;\">\n",
       "      <th></th>\n",
       "      <th>rooms</th>\n",
       "      <th>price</th>\n",
       "      <th>is_exclusive</th>\n",
       "      <th>estate_type</th>\n",
       "      <th>area</th>\n",
       "      <th>address</th>\n",
       "      <th>new_bedrooms_count</th>\n",
       "    </tr>\n",
       "  </thead>\n",
       "  <tbody>\n",
       "    <tr>\n",
       "      <th>3759</th>\n",
       "      <td>5</td>\n",
       "      <td>15000</td>\n",
       "      <td>f</td>\n",
       "      <td>Appartement</td>\n",
       "      <td>200.000000</td>\n",
       "      <td>Paris 8ème</td>\n",
       "      <td>3</td>\n",
       "    </tr>\n",
       "    <tr>\n",
       "      <th>3867</th>\n",
       "      <td>5</td>\n",
       "      <td>18000</td>\n",
       "      <td>f</td>\n",
       "      <td>Appartement</td>\n",
       "      <td>189.473684</td>\n",
       "      <td>Paris 7ème</td>\n",
       "      <td>3</td>\n",
       "    </tr>\n",
       "    <tr>\n",
       "      <th>3785</th>\n",
       "      <td>8</td>\n",
       "      <td>22888</td>\n",
       "      <td>f</td>\n",
       "      <td>Appartement</td>\n",
       "      <td>266.139535</td>\n",
       "      <td>Paris 8ème</td>\n",
       "      <td>5</td>\n",
       "    </tr>\n",
       "    <tr>\n",
       "      <th>3784</th>\n",
       "      <td>6</td>\n",
       "      <td>13280</td>\n",
       "      <td>f</td>\n",
       "      <td>Appartement</td>\n",
       "      <td>160.000000</td>\n",
       "      <td>Paris 8ème</td>\n",
       "      <td>4</td>\n",
       "    </tr>\n",
       "    <tr>\n",
       "      <th>3786</th>\n",
       "      <td>8</td>\n",
       "      <td>20000</td>\n",
       "      <td>f</td>\n",
       "      <td>Appartement</td>\n",
       "      <td>270.270270</td>\n",
       "      <td>Paris 8ème</td>\n",
       "      <td>5</td>\n",
       "    </tr>\n",
       "  </tbody>\n",
       "</table>\n",
       "</div>"
      ],
      "text/plain": [
       "      rooms  price is_exclusive  estate_type        area     address  \\\n",
       "3759      5  15000            f  Appartement  200.000000  Paris 8ème   \n",
       "3867      5  18000            f  Appartement  189.473684  Paris 7ème   \n",
       "3785      8  22888            f  Appartement  266.139535  Paris 8ème   \n",
       "3784      6  13280            f  Appartement  160.000000  Paris 8ème   \n",
       "3786      8  20000            f  Appartement  270.270270  Paris 8ème   \n",
       "\n",
       "      new_bedrooms_count  \n",
       "3759                   3  \n",
       "3867                   3  \n",
       "3785                   5  \n",
       "3784                   4  \n",
       "3786                   5  "
      ]
     },
     "metadata": {},
     "output_type": "display_data"
    },
    {
     "data": {
      "text/html": [
       "<div>\n",
       "<style scoped>\n",
       "    .dataframe tbody tr th:only-of-type {\n",
       "        vertical-align: middle;\n",
       "    }\n",
       "\n",
       "    .dataframe tbody tr th {\n",
       "        vertical-align: top;\n",
       "    }\n",
       "\n",
       "    .dataframe thead th {\n",
       "        text-align: right;\n",
       "    }\n",
       "</style>\n",
       "<table border=\"1\" class=\"dataframe\">\n",
       "  <thead>\n",
       "    <tr style=\"text-align: right;\">\n",
       "      <th></th>\n",
       "      <th>rooms</th>\n",
       "      <th>price</th>\n",
       "      <th>is_exclusive</th>\n",
       "      <th>estate_type</th>\n",
       "      <th>area</th>\n",
       "      <th>address</th>\n",
       "      <th>new_bedrooms_count</th>\n",
       "    </tr>\n",
       "  </thead>\n",
       "  <tbody>\n",
       "    <tr>\n",
       "      <th>4354</th>\n",
       "      <td>1</td>\n",
       "      <td>836</td>\n",
       "      <td>f</td>\n",
       "      <td>Studio</td>\n",
       "      <td>25.333333</td>\n",
       "      <td>Malakoff</td>\n",
       "      <td>0</td>\n",
       "    </tr>\n",
       "    <tr>\n",
       "      <th>4431</th>\n",
       "      <td>1</td>\n",
       "      <td>977</td>\n",
       "      <td>f</td>\n",
       "      <td>Studio</td>\n",
       "      <td>27.138889</td>\n",
       "      <td>Paris 15ème</td>\n",
       "      <td>0</td>\n",
       "    </tr>\n",
       "    <tr>\n",
       "      <th>4340</th>\n",
       "      <td>1</td>\n",
       "      <td>937</td>\n",
       "      <td>f</td>\n",
       "      <td>Studio</td>\n",
       "      <td>26.771429</td>\n",
       "      <td>Paris 18ème</td>\n",
       "      <td>0</td>\n",
       "    </tr>\n",
       "    <tr>\n",
       "      <th>2450</th>\n",
       "      <td>1</td>\n",
       "      <td>802</td>\n",
       "      <td>f</td>\n",
       "      <td>Studio</td>\n",
       "      <td>22.277778</td>\n",
       "      <td>Paris 9ème</td>\n",
       "      <td>0</td>\n",
       "    </tr>\n",
       "    <tr>\n",
       "      <th>4734</th>\n",
       "      <td>1</td>\n",
       "      <td>924</td>\n",
       "      <td>f</td>\n",
       "      <td>Studio</td>\n",
       "      <td>33.000000</td>\n",
       "      <td>Asnières-sur-Seine</td>\n",
       "      <td>0</td>\n",
       "    </tr>\n",
       "  </tbody>\n",
       "</table>\n",
       "</div>"
      ],
      "text/plain": [
       "      rooms  price is_exclusive estate_type       area             address  \\\n",
       "4354      1    836            f      Studio  25.333333            Malakoff   \n",
       "4431      1    977            f      Studio  27.138889         Paris 15ème   \n",
       "4340      1    937            f      Studio  26.771429         Paris 18ème   \n",
       "2450      1    802            f      Studio  22.277778          Paris 9ème   \n",
       "4734      1    924            f      Studio  33.000000  Asnières-sur-Seine   \n",
       "\n",
       "      new_bedrooms_count  \n",
       "4354                   0  \n",
       "4431                   0  \n",
       "4340                   0  \n",
       "2450                   0  \n",
       "4734                   0  "
      ]
     },
     "metadata": {},
     "output_type": "display_data"
    },
    {
     "data": {
      "text/html": [
       "<div>\n",
       "<style scoped>\n",
       "    .dataframe tbody tr th:only-of-type {\n",
       "        vertical-align: middle;\n",
       "    }\n",
       "\n",
       "    .dataframe tbody tr th {\n",
       "        vertical-align: top;\n",
       "    }\n",
       "\n",
       "    .dataframe thead th {\n",
       "        text-align: right;\n",
       "    }\n",
       "</style>\n",
       "<table border=\"1\" class=\"dataframe\">\n",
       "  <thead>\n",
       "    <tr style=\"text-align: right;\">\n",
       "      <th></th>\n",
       "      <th>rooms</th>\n",
       "      <th>price</th>\n",
       "      <th>is_exclusive</th>\n",
       "      <th>estate_type</th>\n",
       "      <th>area</th>\n",
       "      <th>address</th>\n",
       "      <th>new_bedrooms_count</th>\n",
       "    </tr>\n",
       "  </thead>\n",
       "  <tbody>\n",
       "    <tr>\n",
       "      <th>4354</th>\n",
       "      <td>1</td>\n",
       "      <td>836</td>\n",
       "      <td>f</td>\n",
       "      <td>Studio</td>\n",
       "      <td>25.333333</td>\n",
       "      <td>Malakoff</td>\n",
       "      <td>0</td>\n",
       "    </tr>\n",
       "    <tr>\n",
       "      <th>4431</th>\n",
       "      <td>1</td>\n",
       "      <td>977</td>\n",
       "      <td>f</td>\n",
       "      <td>Studio</td>\n",
       "      <td>27.138889</td>\n",
       "      <td>Paris 15ème</td>\n",
       "      <td>0</td>\n",
       "    </tr>\n",
       "    <tr>\n",
       "      <th>4340</th>\n",
       "      <td>1</td>\n",
       "      <td>937</td>\n",
       "      <td>f</td>\n",
       "      <td>Studio</td>\n",
       "      <td>26.771429</td>\n",
       "      <td>Paris 18ème</td>\n",
       "      <td>0</td>\n",
       "    </tr>\n",
       "    <tr>\n",
       "      <th>2450</th>\n",
       "      <td>1</td>\n",
       "      <td>802</td>\n",
       "      <td>f</td>\n",
       "      <td>Studio</td>\n",
       "      <td>22.277778</td>\n",
       "      <td>Paris 9ème</td>\n",
       "      <td>0</td>\n",
       "    </tr>\n",
       "    <tr>\n",
       "      <th>4734</th>\n",
       "      <td>1</td>\n",
       "      <td>924</td>\n",
       "      <td>f</td>\n",
       "      <td>Studio</td>\n",
       "      <td>33.000000</td>\n",
       "      <td>Asnières-sur-Seine</td>\n",
       "      <td>0</td>\n",
       "    </tr>\n",
       "  </tbody>\n",
       "</table>\n",
       "</div>"
      ],
      "text/plain": [
       "      rooms  price is_exclusive estate_type       area             address  \\\n",
       "4354      1    836            f      Studio  25.333333            Malakoff   \n",
       "4431      1    977            f      Studio  27.138889         Paris 15ème   \n",
       "4340      1    937            f      Studio  26.771429         Paris 18ème   \n",
       "2450      1    802            f      Studio  22.277778          Paris 9ème   \n",
       "4734      1    924            f      Studio  33.000000  Asnières-sur-Seine   \n",
       "\n",
       "      new_bedrooms_count  \n",
       "4354                   0  \n",
       "4431                   0  \n",
       "4340                   0  \n",
       "2450                   0  \n",
       "4734                   0  "
      ]
     },
     "metadata": {},
     "output_type": "display_data"
    }
   ],
   "source": [
    "recommendations_cos = recommend_apartments_cosine(client_preferences1)\n",
    "recommendations_eu = recommend_apartments_euclidean_distances(client_preferences2)\n",
    "recommendations_knn = recommend_apartments_knn(client_preferences2)\n",
    "\n",
    "display(recommendations_cos)\n",
    "display(recommendations_eu)\n",
    "display(recommendations_eu)"
   ]
  },
  {
   "cell_type": "markdown",
   "id": "1a4ce9da",
   "metadata": {},
   "source": [
    "## Evaluatation"
   ]
  },
  {
   "cell_type": "code",
   "execution_count": 155,
   "id": "4e16609a",
   "metadata": {},
   "outputs": [],
   "source": [
    "#chercher les différences de distance\n",
    "\n",
    "def evaluateur(client_preferences):\n",
    "    \n",
    "    recommendations_cos = recommend_apartments_cosine(client_preferences)\n",
    "    recommendations_eu = recommend_apartments_euclidean_distances(client_preferences)\n",
    "    recommendations_knn = recommend_apartments_knn(client_preferences)\n",
    "    liste_recommandations = [recommendations_cos, recommendations_eu, recommendations_knn]\n",
    "    \n",
    "    room_diff_moy = []\n",
    "    price_diff_moy = []\n",
    "    area_diff_moy = []\n",
    "    bedrooms_diff_moy = []\n",
    "        \n",
    "    for recommendations in liste_recommandations :\n",
    "        room_diff = abs(recommendations[\"rooms\"] - client_preferences[\"rooms\"])\n",
    "        room_diff_moy.append(room_diff.mean())\n",
    "\n",
    "        price_diff = abs(recommendations[\"price\"] - client_preferences[\"price\"])\n",
    "        price_diff_moy.append(price_diff.mean())\n",
    "\n",
    "        area_diff = abs(recommendations[\"area\"] - client_preferences[\"area\"])\n",
    "        area_diff_moy.append(area_diff.mean())\n",
    "\n",
    "        bedrooms_diff = abs(recommendations[\"new_bedrooms_count\"] - client_preferences[\"new_bedrooms_count\"])\n",
    "        bedrooms_diff_moy.append(bedrooms_diff.mean())\n",
    "\n",
    "    diff = {\"room_diff\" : room_diff_moy, \"price_diff\" : price_diff_moy, \"area_diff\" : area_diff_moy,\n",
    "        \"bedrooms_diff\" : bedrooms_diff_moy}\n",
    "    \n",
    "    return pd.DataFrame(diff, index = ['Cosine similarity','Euclidean distances ','Nearest Neighbors'])"
   ]
  },
  {
   "cell_type": "code",
   "execution_count": 156,
   "id": "89d76a71",
   "metadata": {},
   "outputs": [],
   "source": [
    "difference1 = evaluateur(client_preferences1)\n",
    "difference2 = evaluateur(client_preferences2)\n",
    "difference3 = evaluateur(client_preferences3)"
   ]
  },
  {
   "cell_type": "code",
   "execution_count": 157,
   "id": "4ac6ebf3",
   "metadata": {},
   "outputs": [
    {
     "name": "stdout",
     "output_type": "stream",
     "text": [
      "Evaluation de performance des propositions au premier client\n"
     ]
    },
    {
     "data": {
      "text/html": [
       "<div>\n",
       "<style scoped>\n",
       "    .dataframe tbody tr th:only-of-type {\n",
       "        vertical-align: middle;\n",
       "    }\n",
       "\n",
       "    .dataframe tbody tr th {\n",
       "        vertical-align: top;\n",
       "    }\n",
       "\n",
       "    .dataframe thead th {\n",
       "        text-align: right;\n",
       "    }\n",
       "</style>\n",
       "<table border=\"1\" class=\"dataframe\">\n",
       "  <thead>\n",
       "    <tr style=\"text-align: right;\">\n",
       "      <th></th>\n",
       "      <th>room_diff</th>\n",
       "      <th>price_diff</th>\n",
       "      <th>area_diff</th>\n",
       "      <th>bedrooms_diff</th>\n",
       "    </tr>\n",
       "  </thead>\n",
       "  <tbody>\n",
       "    <tr>\n",
       "      <th>Cosine similarity</th>\n",
       "      <td>1.4</td>\n",
       "      <td>3521.6</td>\n",
       "      <td>44.742963</td>\n",
       "      <td>1.0</td>\n",
       "    </tr>\n",
       "    <tr>\n",
       "      <th>Euclidean distances</th>\n",
       "      <td>1.6</td>\n",
       "      <td>1144.0</td>\n",
       "      <td>26.795613</td>\n",
       "      <td>0.4</td>\n",
       "    </tr>\n",
       "    <tr>\n",
       "      <th>Nearest Neighbors</th>\n",
       "      <td>1.4</td>\n",
       "      <td>1044.0</td>\n",
       "      <td>12.940191</td>\n",
       "      <td>0.4</td>\n",
       "    </tr>\n",
       "  </tbody>\n",
       "</table>\n",
       "</div>"
      ],
      "text/plain": [
       "                      room_diff  price_diff  area_diff  bedrooms_diff\n",
       "Cosine similarity           1.4      3521.6  44.742963            1.0\n",
       "Euclidean distances         1.6      1144.0  26.795613            0.4\n",
       "Nearest Neighbors           1.4      1044.0  12.940191            0.4"
      ]
     },
     "metadata": {},
     "output_type": "display_data"
    },
    {
     "name": "stdout",
     "output_type": "stream",
     "text": [
      "Evaluation de performance des propositions au second client\n"
     ]
    },
    {
     "data": {
      "text/html": [
       "<div>\n",
       "<style scoped>\n",
       "    .dataframe tbody tr th:only-of-type {\n",
       "        vertical-align: middle;\n",
       "    }\n",
       "\n",
       "    .dataframe tbody tr th {\n",
       "        vertical-align: top;\n",
       "    }\n",
       "\n",
       "    .dataframe thead th {\n",
       "        text-align: right;\n",
       "    }\n",
       "</style>\n",
       "<table border=\"1\" class=\"dataframe\">\n",
       "  <thead>\n",
       "    <tr style=\"text-align: right;\">\n",
       "      <th></th>\n",
       "      <th>room_diff</th>\n",
       "      <th>price_diff</th>\n",
       "      <th>area_diff</th>\n",
       "      <th>bedrooms_diff</th>\n",
       "    </tr>\n",
       "  </thead>\n",
       "  <tbody>\n",
       "    <tr>\n",
       "      <th>Cosine similarity</th>\n",
       "      <td>0.0</td>\n",
       "      <td>295.2</td>\n",
       "      <td>4.295714</td>\n",
       "      <td>0.0</td>\n",
       "    </tr>\n",
       "    <tr>\n",
       "      <th>Euclidean distances</th>\n",
       "      <td>0.0</td>\n",
       "      <td>295.2</td>\n",
       "      <td>4.295714</td>\n",
       "      <td>0.0</td>\n",
       "    </tr>\n",
       "    <tr>\n",
       "      <th>Nearest Neighbors</th>\n",
       "      <td>0.0</td>\n",
       "      <td>295.2</td>\n",
       "      <td>4.295714</td>\n",
       "      <td>0.0</td>\n",
       "    </tr>\n",
       "  </tbody>\n",
       "</table>\n",
       "</div>"
      ],
      "text/plain": [
       "                      room_diff  price_diff  area_diff  bedrooms_diff\n",
       "Cosine similarity           0.0       295.2   4.295714            0.0\n",
       "Euclidean distances         0.0       295.2   4.295714            0.0\n",
       "Nearest Neighbors           0.0       295.2   4.295714            0.0"
      ]
     },
     "metadata": {},
     "output_type": "display_data"
    },
    {
     "name": "stdout",
     "output_type": "stream",
     "text": [
      "Evaluation de performance des propositions au troisième client\n"
     ]
    },
    {
     "data": {
      "text/html": [
       "<div>\n",
       "<style scoped>\n",
       "    .dataframe tbody tr th:only-of-type {\n",
       "        vertical-align: middle;\n",
       "    }\n",
       "\n",
       "    .dataframe tbody tr th {\n",
       "        vertical-align: top;\n",
       "    }\n",
       "\n",
       "    .dataframe thead th {\n",
       "        text-align: right;\n",
       "    }\n",
       "</style>\n",
       "<table border=\"1\" class=\"dataframe\">\n",
       "  <thead>\n",
       "    <tr style=\"text-align: right;\">\n",
       "      <th></th>\n",
       "      <th>room_diff</th>\n",
       "      <th>price_diff</th>\n",
       "      <th>area_diff</th>\n",
       "      <th>bedrooms_diff</th>\n",
       "    </tr>\n",
       "  </thead>\n",
       "  <tbody>\n",
       "    <tr>\n",
       "      <th>Cosine similarity</th>\n",
       "      <td>0.8</td>\n",
       "      <td>3435.2</td>\n",
       "      <td>33.066692</td>\n",
       "      <td>0.6</td>\n",
       "    </tr>\n",
       "    <tr>\n",
       "      <th>Euclidean distances</th>\n",
       "      <td>0.4</td>\n",
       "      <td>2325.2</td>\n",
       "      <td>37.711270</td>\n",
       "      <td>0.4</td>\n",
       "    </tr>\n",
       "    <tr>\n",
       "      <th>Nearest Neighbors</th>\n",
       "      <td>0.6</td>\n",
       "      <td>1080.0</td>\n",
       "      <td>9.189818</td>\n",
       "      <td>0.2</td>\n",
       "    </tr>\n",
       "  </tbody>\n",
       "</table>\n",
       "</div>"
      ],
      "text/plain": [
       "                      room_diff  price_diff  area_diff  bedrooms_diff\n",
       "Cosine similarity           0.8      3435.2  33.066692            0.6\n",
       "Euclidean distances         0.4      2325.2  37.711270            0.4\n",
       "Nearest Neighbors           0.6      1080.0   9.189818            0.2"
      ]
     },
     "metadata": {},
     "output_type": "display_data"
    }
   ],
   "source": [
    "print(\"Evaluation de performance des propositions au premier client\")\n",
    "display(difference1)\n",
    "\n",
    "print(\"Evaluation de performance des propositions au second client\")\n",
    "display(difference2)\n",
    "\n",
    "print(\"Evaluation de performance des propositions au troisième client\")\n",
    "display(difference3)"
   ]
  }
 ],
 "metadata": {
  "kernelspec": {
   "display_name": "Python 3 (ipykernel)",
   "language": "python",
   "name": "python3"
  },
  "language_info": {
   "codemirror_mode": {
    "name": "ipython",
    "version": 3
   },
   "file_extension": ".py",
   "mimetype": "text/x-python",
   "name": "python",
   "nbconvert_exporter": "python",
   "pygments_lexer": "ipython3",
   "version": "3.9.13"
  }
 },
 "nbformat": 4,
 "nbformat_minor": 5
}
